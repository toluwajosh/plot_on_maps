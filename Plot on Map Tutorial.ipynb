{
 "cells": [
  {
   "cell_type": "markdown",
   "metadata": {},
   "source": [
    "This Tutorial is from the Medium Post, [How safe are the streets of Santiago?](https://towardsdatascience.com/how-safe-are-the-streets-of-santiago-e01ba483ce4b)\n",
    "\n",
    "The package, Geopandas can be easily installed using:\n",
    "```bash\n",
    "conda install geopandas\n",
    "```"
   ]
  },
  {
   "cell_type": "markdown",
   "metadata": {},
   "source": [
    "A great start to learn GeoPandas is to follow the article from Benjamin Colley: [Let’s make a map! Using Geopandas, Pandas and Matplotlib to make a Choropleth map](https://towardsdatascience.com/lets-make-a-map-using-geopandas-pandas-and-matplotlib-to-make-a-chloropleth-map-dddc31c1983d)."
   ]
  },
  {
   "cell_type": "code",
   "execution_count": 1,
   "metadata": {
    "scrolled": true
   },
   "outputs": [
    {
     "data": {
      "text/html": [
       "<div>\n",
       "<style scoped>\n",
       "    .dataframe tbody tr th:only-of-type {\n",
       "        vertical-align: middle;\n",
       "    }\n",
       "\n",
       "    .dataframe tbody tr th {\n",
       "        vertical-align: top;\n",
       "    }\n",
       "\n",
       "    .dataframe thead th {\n",
       "        text-align: right;\n",
       "    }\n",
       "</style>\n",
       "<table border=\"1\" class=\"dataframe\">\n",
       "  <thead>\n",
       "    <tr style=\"text-align: right;\">\n",
       "      <th></th>\n",
       "      <th>NAME</th>\n",
       "      <th>GSS_CODE</th>\n",
       "      <th>HECTARES</th>\n",
       "      <th>NONLD_AREA</th>\n",
       "      <th>ONS_INNER</th>\n",
       "      <th>SUB_2009</th>\n",
       "      <th>SUB_2006</th>\n",
       "      <th>geometry</th>\n",
       "    </tr>\n",
       "  </thead>\n",
       "  <tbody>\n",
       "    <tr>\n",
       "      <th>0</th>\n",
       "      <td>Kingston upon Thames</td>\n",
       "      <td>E09000021</td>\n",
       "      <td>3726.117</td>\n",
       "      <td>0.000</td>\n",
       "      <td>F</td>\n",
       "      <td>None</td>\n",
       "      <td>None</td>\n",
       "      <td>POLYGON ((516401.600 160201.800, 516407.300 16...</td>\n",
       "    </tr>\n",
       "    <tr>\n",
       "      <th>1</th>\n",
       "      <td>Croydon</td>\n",
       "      <td>E09000008</td>\n",
       "      <td>8649.441</td>\n",
       "      <td>0.000</td>\n",
       "      <td>F</td>\n",
       "      <td>None</td>\n",
       "      <td>None</td>\n",
       "      <td>POLYGON ((535009.200 159504.700, 535005.500 15...</td>\n",
       "    </tr>\n",
       "    <tr>\n",
       "      <th>2</th>\n",
       "      <td>Bromley</td>\n",
       "      <td>E09000006</td>\n",
       "      <td>15013.487</td>\n",
       "      <td>0.000</td>\n",
       "      <td>F</td>\n",
       "      <td>None</td>\n",
       "      <td>None</td>\n",
       "      <td>POLYGON ((540373.600 157530.400, 540361.200 15...</td>\n",
       "    </tr>\n",
       "    <tr>\n",
       "      <th>3</th>\n",
       "      <td>Hounslow</td>\n",
       "      <td>E09000018</td>\n",
       "      <td>5658.541</td>\n",
       "      <td>60.755</td>\n",
       "      <td>F</td>\n",
       "      <td>None</td>\n",
       "      <td>None</td>\n",
       "      <td>POLYGON ((521975.800 178100.000, 521967.700 17...</td>\n",
       "    </tr>\n",
       "    <tr>\n",
       "      <th>4</th>\n",
       "      <td>Ealing</td>\n",
       "      <td>E09000009</td>\n",
       "      <td>5554.428</td>\n",
       "      <td>0.000</td>\n",
       "      <td>F</td>\n",
       "      <td>None</td>\n",
       "      <td>None</td>\n",
       "      <td>POLYGON ((510253.500 182881.600, 510249.900 18...</td>\n",
       "    </tr>\n",
       "  </tbody>\n",
       "</table>\n",
       "</div>"
      ],
      "text/plain": [
       "                   NAME   GSS_CODE   HECTARES  NONLD_AREA ONS_INNER SUB_2009  \\\n",
       "0  Kingston upon Thames  E09000021   3726.117       0.000         F     None   \n",
       "1               Croydon  E09000008   8649.441       0.000         F     None   \n",
       "2               Bromley  E09000006  15013.487       0.000         F     None   \n",
       "3              Hounslow  E09000018   5658.541      60.755         F     None   \n",
       "4                Ealing  E09000009   5554.428       0.000         F     None   \n",
       "\n",
       "  SUB_2006                                           geometry  \n",
       "0     None  POLYGON ((516401.600 160201.800, 516407.300 16...  \n",
       "1     None  POLYGON ((535009.200 159504.700, 535005.500 15...  \n",
       "2     None  POLYGON ((540373.600 157530.400, 540361.200 15...  \n",
       "3     None  POLYGON ((521975.800 178100.000, 521967.700 17...  \n",
       "4     None  POLYGON ((510253.500 182881.600, 510249.900 18...  "
      ]
     },
     "execution_count": 1,
     "metadata": {},
     "output_type": "execute_result"
    }
   ],
   "source": [
    "import numpy as np\n",
    "import pandas as pd\n",
    "import matplotlib.pyplot as plt\n",
    "import seaborn as sns\n",
    "import geopandas as gpd\n",
    "from shapely.geometry import Point, Polygon\n",
    "# set the filepath and load in a shapefile\n",
    "fp = \"statistical-gis-boundaries-london/ESRI/London_Borough_Excluding_MHW.shp\"\n",
    "map_df = gpd.read_file(fp)\n",
    "# check data type so we can see that this is not a normal dataframe, but a GEOdataframe\n",
    "map_df.head()"
   ]
  },
  {
   "cell_type": "code",
   "execution_count": 2,
   "metadata": {
    "scrolled": true
   },
   "outputs": [
    {
     "data": {
      "text/plain": [
       "<matplotlib.axes._subplots.AxesSubplot at 0x7f1c540910d0>"
      ]
     },
     "execution_count": 2,
     "metadata": {},
     "output_type": "execute_result"
    },
    {
     "data": {
      "image/png": "[encoded data removed]",
      "text/plain": [
       "<Figure size 432x288 with 1 Axes>"
      ]
     },
     "metadata": {
      "needs_background": "light"
     },
     "output_type": "display_data"
    }
   ],
   "source": [
    "map_df.plot()"
   ]
  },
  {
   "cell_type": "code",
   "execution_count": 3,
   "metadata": {
    "scrolled": true
   },
   "outputs": [
    {
     "data": {
      "text/html": [
       "<div>\n",
       "<style scoped>\n",
       "    .dataframe tbody tr th:only-of-type {\n",
       "        vertical-align: middle;\n",
       "    }\n",
       "\n",
       "    .dataframe tbody tr th {\n",
       "        vertical-align: top;\n",
       "    }\n",
       "\n",
       "    .dataframe thead th {\n",
       "        text-align: right;\n",
       "    }\n",
       "</style>\n",
       "<table border=\"1\" class=\"dataframe\">\n",
       "  <thead>\n",
       "    <tr style=\"text-align: right;\">\n",
       "      <th></th>\n",
       "      <th>Code</th>\n",
       "      <th>Area_name</th>\n",
       "      <th>Inner/_Outer_London</th>\n",
       "      <th>GLA_Population_Estimate_2017</th>\n",
       "      <th>GLA_Household_Estimate_2017</th>\n",
       "      <th>Inland_Area_(Hectares)</th>\n",
       "      <th>Population_density_(per_hectare)_2017</th>\n",
       "      <th>Average_Age,_2017</th>\n",
       "      <th>Proportion_of_population_aged_0-15,_2015</th>\n",
       "      <th>Proportion_of_population_of_working-age,_2015</th>\n",
       "      <th>...</th>\n",
       "      <th>Happiness_score_2011-14_(out_of_10)</th>\n",
       "      <th>Anxiety_score_2011-14_(out_of_10)</th>\n",
       "      <th>Childhood_Obesity_Prevalance_(%)_2015/16</th>\n",
       "      <th>People_aged_17+_with_diabetes_(%)</th>\n",
       "      <th>Mortality_rate_from_causes_considered_preventable_2012/14</th>\n",
       "      <th>Political_control_in_council</th>\n",
       "      <th>Proportion_of_seats_won_by_Conservatives_in_2014_election</th>\n",
       "      <th>Proportion_of_seats_won_by_Labour_in_2014_election</th>\n",
       "      <th>Proportion_of_seats_won_by_Lib_Dems_in_2014_election</th>\n",
       "      <th>Turnout_at_2014_local_elections</th>\n",
       "    </tr>\n",
       "  </thead>\n",
       "  <tbody>\n",
       "    <tr>\n",
       "      <th>0</th>\n",
       "      <td>E09000001</td>\n",
       "      <td>City of London</td>\n",
       "      <td>Inner London</td>\n",
       "      <td>8800</td>\n",
       "      <td>5326</td>\n",
       "      <td>290</td>\n",
       "      <td>30.3</td>\n",
       "      <td>43.2</td>\n",
       "      <td>11.4</td>\n",
       "      <td>73.1</td>\n",
       "      <td>...</td>\n",
       "      <td>6.0</td>\n",
       "      <td>5.6</td>\n",
       "      <td>NaN</td>\n",
       "      <td>2.6</td>\n",
       "      <td>129</td>\n",
       "      <td>.</td>\n",
       "      <td>.</td>\n",
       "      <td>.</td>\n",
       "      <td>.</td>\n",
       "      <td>.</td>\n",
       "    </tr>\n",
       "    <tr>\n",
       "      <th>1</th>\n",
       "      <td>E09000002</td>\n",
       "      <td>Barking and Dagenham</td>\n",
       "      <td>Outer London</td>\n",
       "      <td>209000</td>\n",
       "      <td>78188</td>\n",
       "      <td>3,611</td>\n",
       "      <td>57.9</td>\n",
       "      <td>32.9</td>\n",
       "      <td>27.2</td>\n",
       "      <td>63.1</td>\n",
       "      <td>...</td>\n",
       "      <td>7.1</td>\n",
       "      <td>3.1</td>\n",
       "      <td>28.5</td>\n",
       "      <td>7.3</td>\n",
       "      <td>228</td>\n",
       "      <td>Lab</td>\n",
       "      <td>0</td>\n",
       "      <td>100</td>\n",
       "      <td>0</td>\n",
       "      <td>36.5</td>\n",
       "    </tr>\n",
       "    <tr>\n",
       "      <th>2</th>\n",
       "      <td>E09000003</td>\n",
       "      <td>Barnet</td>\n",
       "      <td>Outer London</td>\n",
       "      <td>389600</td>\n",
       "      <td>151423</td>\n",
       "      <td>8,675</td>\n",
       "      <td>44.9</td>\n",
       "      <td>37.3</td>\n",
       "      <td>21.1</td>\n",
       "      <td>64.9</td>\n",
       "      <td>...</td>\n",
       "      <td>7.4</td>\n",
       "      <td>2.8</td>\n",
       "      <td>20.7</td>\n",
       "      <td>6.0</td>\n",
       "      <td>134</td>\n",
       "      <td>Cons</td>\n",
       "      <td>50.8</td>\n",
       "      <td>.</td>\n",
       "      <td>1.6</td>\n",
       "      <td>40.5</td>\n",
       "    </tr>\n",
       "    <tr>\n",
       "      <th>3</th>\n",
       "      <td>E09000004</td>\n",
       "      <td>Bexley</td>\n",
       "      <td>Outer London</td>\n",
       "      <td>244300</td>\n",
       "      <td>97736</td>\n",
       "      <td>6,058</td>\n",
       "      <td>40.3</td>\n",
       "      <td>39.0</td>\n",
       "      <td>20.6</td>\n",
       "      <td>62.9</td>\n",
       "      <td>...</td>\n",
       "      <td>7.2</td>\n",
       "      <td>3.3</td>\n",
       "      <td>22.7</td>\n",
       "      <td>6.9</td>\n",
       "      <td>164</td>\n",
       "      <td>Cons</td>\n",
       "      <td>71.4</td>\n",
       "      <td>23.8</td>\n",
       "      <td>0</td>\n",
       "      <td>39.6</td>\n",
       "    </tr>\n",
       "    <tr>\n",
       "      <th>4</th>\n",
       "      <td>E09000005</td>\n",
       "      <td>Brent</td>\n",
       "      <td>Outer London</td>\n",
       "      <td>332100</td>\n",
       "      <td>121048</td>\n",
       "      <td>4,323</td>\n",
       "      <td>76.8</td>\n",
       "      <td>35.6</td>\n",
       "      <td>20.9</td>\n",
       "      <td>67.8</td>\n",
       "      <td>...</td>\n",
       "      <td>7.2</td>\n",
       "      <td>2.9</td>\n",
       "      <td>24.3</td>\n",
       "      <td>7.9</td>\n",
       "      <td>169</td>\n",
       "      <td>Lab</td>\n",
       "      <td>9.5</td>\n",
       "      <td>88.9</td>\n",
       "      <td>1.6</td>\n",
       "      <td>36.3</td>\n",
       "    </tr>\n",
       "  </tbody>\n",
       "</table>\n",
       "<p>5 rows × 84 columns</p>\n",
       "</div>"
      ],
      "text/plain": [
       "        Code             Area_name Inner/_Outer_London  \\\n",
       "0  E09000001        City of London        Inner London   \n",
       "1  E09000002  Barking and Dagenham        Outer London   \n",
       "2  E09000003                Barnet        Outer London   \n",
       "3  E09000004                Bexley        Outer London   \n",
       "4  E09000005                 Brent        Outer London   \n",
       "\n",
       "   GLA_Population_Estimate_2017 GLA_Household_Estimate_2017  \\\n",
       "0                          8800                        5326   \n",
       "1                        209000                       78188   \n",
       "2                        389600                      151423   \n",
       "3                        244300                       97736   \n",
       "4                        332100                      121048   \n",
       "\n",
       "  Inland_Area_(Hectares) Population_density_(per_hectare)_2017  \\\n",
       "0                    290                                  30.3   \n",
       "1                  3,611                                  57.9   \n",
       "2                  8,675                                  44.9   \n",
       "3                  6,058                                  40.3   \n",
       "4                  4,323                                  76.8   \n",
       "\n",
       "   Average_Age,_2017  Proportion_of_population_aged_0-15,_2015  \\\n",
       "0               43.2                                      11.4   \n",
       "1               32.9                                      27.2   \n",
       "2               37.3                                      21.1   \n",
       "3               39.0                                      20.6   \n",
       "4               35.6                                      20.9   \n",
       "\n",
       "   Proportion_of_population_of_working-age,_2015  ...  \\\n",
       "0                                           73.1  ...   \n",
       "1                                           63.1  ...   \n",
       "2                                           64.9  ...   \n",
       "3                                           62.9  ...   \n",
       "4                                           67.8  ...   \n",
       "\n",
       "   Happiness_score_2011-14_(out_of_10) Anxiety_score_2011-14_(out_of_10)  \\\n",
       "0                                  6.0                               5.6   \n",
       "1                                  7.1                               3.1   \n",
       "2                                  7.4                               2.8   \n",
       "3                                  7.2                               3.3   \n",
       "4                                  7.2                               2.9   \n",
       "\n",
       "  Childhood_Obesity_Prevalance_(%)_2015/16 People_aged_17+_with_diabetes_(%)  \\\n",
       "0                                      NaN                               2.6   \n",
       "1                                     28.5                               7.3   \n",
       "2                                     20.7                               6.0   \n",
       "3                                     22.7                               6.9   \n",
       "4                                     24.3                               7.9   \n",
       "\n",
       "  Mortality_rate_from_causes_considered_preventable_2012/14  \\\n",
       "0                                                129          \n",
       "1                                                228          \n",
       "2                                                134          \n",
       "3                                                164          \n",
       "4                                                169          \n",
       "\n",
       "  Political_control_in_council  \\\n",
       "0                            .   \n",
       "1                          Lab   \n",
       "2                         Cons   \n",
       "3                         Cons   \n",
       "4                          Lab   \n",
       "\n",
       "  Proportion_of_seats_won_by_Conservatives_in_2014_election  \\\n",
       "0                                                  .          \n",
       "1                                                  0          \n",
       "2                                               50.8          \n",
       "3                                               71.4          \n",
       "4                                                9.5          \n",
       "\n",
       "  Proportion_of_seats_won_by_Labour_in_2014_election  \\\n",
       "0                                                  .   \n",
       "1                                                100   \n",
       "2                                                  .   \n",
       "3                                               23.8   \n",
       "4                                               88.9   \n",
       "\n",
       "  Proportion_of_seats_won_by_Lib_Dems_in_2014_election  \\\n",
       "0                                                  .     \n",
       "1                                                  0     \n",
       "2                                                1.6     \n",
       "3                                                  0     \n",
       "4                                                1.6     \n",
       "\n",
       "  Turnout_at_2014_local_elections  \n",
       "0                               .  \n",
       "1                            36.5  \n",
       "2                            40.5  \n",
       "3                            39.6  \n",
       "4                            36.3  \n",
       "\n",
       "[5 rows x 84 columns]"
      ]
     },
     "execution_count": 3,
     "metadata": {},
     "output_type": "execute_result"
    }
   ],
   "source": [
    "df = pd.read_csv(\"./statistical-gis-boundaries-london/london-borough-profiles.csv\", header=0, encoding = \"ISO-8859-1\", engine='python')\n",
    "df.head()"
   ]
  },
  {
   "cell_type": "code",
   "execution_count": 4,
   "metadata": {},
   "outputs": [
    {
     "data": {
      "text/plain": [
       "(38, 84)"
      ]
     },
     "execution_count": 4,
     "metadata": {},
     "output_type": "execute_result"
    }
   ],
   "source": [
    "df.shape"
   ]
  },
  {
   "cell_type": "code",
   "execution_count": 5,
   "metadata": {},
   "outputs": [],
   "source": [
    "# get the important data slices\n",
    "# df = df[['borough',\n",
    "#          'Happiness_score_2011–14_(out_of_10)',\n",
    "#          'Anxiety_score_2011–14_(out_of_10)',\n",
    "#          'Population_density_(per_hectare)_2017',\n",
    "#          'Mortality_rate_from_causes_considered_preventable_2012/14']]\n",
    "df_new = df[[\"Area_name\",\n",
    "             \"Happiness_score_2011-14_(out_of_10)\",\n",
    "             \"Anxiety_score_2011-14_(out_of_10)\",\n",
    "            \"Population_density_(per_hectare)_2017\",\n",
    "            \"Mortality_rate_from_causes_considered_preventable_2012/14\"]]"
   ]
  },
  {
   "cell_type": "code",
   "execution_count": 6,
   "metadata": {},
   "outputs": [
    {
     "data": {
      "text/html": [
       "<div>\n",
       "<style scoped>\n",
       "    .dataframe tbody tr th:only-of-type {\n",
       "        vertical-align: middle;\n",
       "    }\n",
       "\n",
       "    .dataframe tbody tr th {\n",
       "        vertical-align: top;\n",
       "    }\n",
       "\n",
       "    .dataframe thead th {\n",
       "        text-align: right;\n",
       "    }\n",
       "</style>\n",
       "<table border=\"1\" class=\"dataframe\">\n",
       "  <thead>\n",
       "    <tr style=\"text-align: right;\">\n",
       "      <th></th>\n",
       "      <th>borough</th>\n",
       "      <th>happiness</th>\n",
       "      <th>anxiety</th>\n",
       "      <th>pop_density_per_hectare</th>\n",
       "      <th>mortality</th>\n",
       "    </tr>\n",
       "  </thead>\n",
       "  <tbody>\n",
       "    <tr>\n",
       "      <th>0</th>\n",
       "      <td>City of London</td>\n",
       "      <td>6.0</td>\n",
       "      <td>5.6</td>\n",
       "      <td>30.3</td>\n",
       "      <td>129</td>\n",
       "    </tr>\n",
       "    <tr>\n",
       "      <th>1</th>\n",
       "      <td>Barking and Dagenham</td>\n",
       "      <td>7.1</td>\n",
       "      <td>3.1</td>\n",
       "      <td>57.9</td>\n",
       "      <td>228</td>\n",
       "    </tr>\n",
       "    <tr>\n",
       "      <th>2</th>\n",
       "      <td>Barnet</td>\n",
       "      <td>7.4</td>\n",
       "      <td>2.8</td>\n",
       "      <td>44.9</td>\n",
       "      <td>134</td>\n",
       "    </tr>\n",
       "    <tr>\n",
       "      <th>3</th>\n",
       "      <td>Bexley</td>\n",
       "      <td>7.2</td>\n",
       "      <td>3.3</td>\n",
       "      <td>40.3</td>\n",
       "      <td>164</td>\n",
       "    </tr>\n",
       "    <tr>\n",
       "      <th>4</th>\n",
       "      <td>Brent</td>\n",
       "      <td>7.2</td>\n",
       "      <td>2.9</td>\n",
       "      <td>76.8</td>\n",
       "      <td>169</td>\n",
       "    </tr>\n",
       "  </tbody>\n",
       "</table>\n",
       "</div>"
      ],
      "text/plain": [
       "                borough  happiness  anxiety pop_density_per_hectare mortality\n",
       "0        City of London        6.0      5.6                    30.3       129\n",
       "1  Barking and Dagenham        7.1      3.1                    57.9       228\n",
       "2                Barnet        7.4      2.8                    44.9       134\n",
       "3                Bexley        7.2      3.3                    40.3       164\n",
       "4                 Brent        7.2      2.9                    76.8       169"
      ]
     },
     "execution_count": 6,
     "metadata": {},
     "output_type": "execute_result"
    }
   ],
   "source": [
    "# rename columns to something better\n",
    "data_for_map = df_new.rename(\n",
    "    index=str,\n",
    "    columns={\n",
    "            \"Area_name\": \"borough\",\n",
    "            \"Happiness_score_2011-14_(out_of_10)\": \"happiness\",\n",
    "             \"Anxiety_score_2011-14_(out_of_10)\": \"anxiety\",\n",
    "            \"Population_density_(per_hectare)_2017\": \"pop_density_per_hectare\",\n",
    "            \"Mortality_rate_from_causes_considered_preventable_2012/14\": \"mortality\"\n",
    "    })\n",
    "data_for_map.head()"
   ]
  },
  {
   "cell_type": "code",
   "execution_count": 7,
   "metadata": {
    "scrolled": true
   },
   "outputs": [
    {
     "data": {
      "text/html": [
       "<div>\n",
       "<style scoped>\n",
       "    .dataframe tbody tr th:only-of-type {\n",
       "        vertical-align: middle;\n",
       "    }\n",
       "\n",
       "    .dataframe tbody tr th {\n",
       "        vertical-align: top;\n",
       "    }\n",
       "\n",
       "    .dataframe thead th {\n",
       "        text-align: right;\n",
       "    }\n",
       "</style>\n",
       "<table border=\"1\" class=\"dataframe\">\n",
       "  <thead>\n",
       "    <tr style=\"text-align: right;\">\n",
       "      <th></th>\n",
       "      <th>GSS_CODE</th>\n",
       "      <th>HECTARES</th>\n",
       "      <th>NONLD_AREA</th>\n",
       "      <th>ONS_INNER</th>\n",
       "      <th>SUB_2009</th>\n",
       "      <th>SUB_2006</th>\n",
       "      <th>geometry</th>\n",
       "      <th>happiness</th>\n",
       "      <th>anxiety</th>\n",
       "      <th>pop_density_per_hectare</th>\n",
       "      <th>mortality</th>\n",
       "    </tr>\n",
       "    <tr>\n",
       "      <th>NAME</th>\n",
       "      <th></th>\n",
       "      <th></th>\n",
       "      <th></th>\n",
       "      <th></th>\n",
       "      <th></th>\n",
       "      <th></th>\n",
       "      <th></th>\n",
       "      <th></th>\n",
       "      <th></th>\n",
       "      <th></th>\n",
       "      <th></th>\n",
       "    </tr>\n",
       "  </thead>\n",
       "  <tbody>\n",
       "    <tr>\n",
       "      <th>Kingston upon Thames</th>\n",
       "      <td>E09000021</td>\n",
       "      <td>3726.117</td>\n",
       "      <td>0.000</td>\n",
       "      <td>F</td>\n",
       "      <td>None</td>\n",
       "      <td>None</td>\n",
       "      <td>POLYGON ((516401.600 160201.800, 516407.300 16...</td>\n",
       "      <td>7.4</td>\n",
       "      <td>3.3</td>\n",
       "      <td>47.1</td>\n",
       "      <td>141</td>\n",
       "    </tr>\n",
       "    <tr>\n",
       "      <th>Croydon</th>\n",
       "      <td>E09000008</td>\n",
       "      <td>8649.441</td>\n",
       "      <td>0.000</td>\n",
       "      <td>F</td>\n",
       "      <td>None</td>\n",
       "      <td>None</td>\n",
       "      <td>POLYGON ((535009.200 159504.700, 535005.500 15...</td>\n",
       "      <td>7.2</td>\n",
       "      <td>3.3</td>\n",
       "      <td>44.7</td>\n",
       "      <td>178</td>\n",
       "    </tr>\n",
       "    <tr>\n",
       "      <th>Bromley</th>\n",
       "      <td>E09000006</td>\n",
       "      <td>15013.487</td>\n",
       "      <td>0.000</td>\n",
       "      <td>F</td>\n",
       "      <td>None</td>\n",
       "      <td>None</td>\n",
       "      <td>POLYGON ((540373.600 157530.400, 540361.200 15...</td>\n",
       "      <td>7.4</td>\n",
       "      <td>3.3</td>\n",
       "      <td>21.8</td>\n",
       "      <td>148</td>\n",
       "    </tr>\n",
       "    <tr>\n",
       "      <th>Hounslow</th>\n",
       "      <td>E09000018</td>\n",
       "      <td>5658.541</td>\n",
       "      <td>60.755</td>\n",
       "      <td>F</td>\n",
       "      <td>None</td>\n",
       "      <td>None</td>\n",
       "      <td>POLYGON ((521975.800 178100.000, 521967.700 17...</td>\n",
       "      <td>7.4</td>\n",
       "      <td>3.4</td>\n",
       "      <td>49</td>\n",
       "      <td>166</td>\n",
       "    </tr>\n",
       "    <tr>\n",
       "      <th>Ealing</th>\n",
       "      <td>E09000009</td>\n",
       "      <td>5554.428</td>\n",
       "      <td>0.000</td>\n",
       "      <td>F</td>\n",
       "      <td>None</td>\n",
       "      <td>None</td>\n",
       "      <td>POLYGON ((510253.500 182881.600, 510249.900 18...</td>\n",
       "      <td>7.3</td>\n",
       "      <td>3.6</td>\n",
       "      <td>63.3</td>\n",
       "      <td>164</td>\n",
       "    </tr>\n",
       "  </tbody>\n",
       "</table>\n",
       "</div>"
      ],
      "text/plain": [
       "                       GSS_CODE   HECTARES  NONLD_AREA ONS_INNER SUB_2009  \\\n",
       "NAME                                                                        \n",
       "Kingston upon Thames  E09000021   3726.117       0.000         F     None   \n",
       "Croydon               E09000008   8649.441       0.000         F     None   \n",
       "Bromley               E09000006  15013.487       0.000         F     None   \n",
       "Hounslow              E09000018   5658.541      60.755         F     None   \n",
       "Ealing                E09000009   5554.428       0.000         F     None   \n",
       "\n",
       "                     SUB_2006  \\\n",
       "NAME                            \n",
       "Kingston upon Thames     None   \n",
       "Croydon                  None   \n",
       "Bromley                  None   \n",
       "Hounslow                 None   \n",
       "Ealing                   None   \n",
       "\n",
       "                                                               geometry  \\\n",
       "NAME                                                                      \n",
       "Kingston upon Thames  POLYGON ((516401.600 160201.800, 516407.300 16...   \n",
       "Croydon               POLYGON ((535009.200 159504.700, 535005.500 15...   \n",
       "Bromley               POLYGON ((540373.600 157530.400, 540361.200 15...   \n",
       "Hounslow              POLYGON ((521975.800 178100.000, 521967.700 17...   \n",
       "Ealing                POLYGON ((510253.500 182881.600, 510249.900 18...   \n",
       "\n",
       "                      happiness  anxiety pop_density_per_hectare mortality  \n",
       "NAME                                                                        \n",
       "Kingston upon Thames        7.4      3.3                    47.1       141  \n",
       "Croydon                     7.2      3.3                    44.7       178  \n",
       "Bromley                     7.4      3.3                    21.8       148  \n",
       "Hounslow                    7.4      3.4                      49       166  \n",
       "Ealing                      7.3      3.6                    63.3       164  "
      ]
     },
     "execution_count": 7,
     "metadata": {},
     "output_type": "execute_result"
    }
   ],
   "source": [
    "# join the geodataframe with the cleaned up csv dataframe\n",
    "merged = map_df.set_index(\"NAME\").join(data_for_map.set_index(\"borough\"))\n",
    "merged.head()"
   ]
  },
  {
   "cell_type": "code",
   "execution_count": 15,
   "metadata": {},
   "outputs": [
    {
     "data": {
      "image/png": "[encoded data removed]",
      "text/plain": [
       "<Figure size 720x432 with 2 Axes>"
      ]
     },
     "metadata": {
      "needs_background": "light"
     },
     "output_type": "display_data"
    }
   ],
   "source": [
    "# set a variable that will call whatever column we want to visualize on the map\n",
    "variable = \"pop_density_per_hectare\"\n",
    "\n",
    "# set the range for the choropleth\n",
    "vmin, vmax = 120, 220\n",
    "\n",
    "# create figure and axes for matplotlib\n",
    "fig, ax = plt.subplots(1, figsize=(10, 6))\n",
    "\n",
    "# create map\n",
    "merged.plot(column=variable, cmap=\"Blues\", linewidth=0.8, ax=ax, edgecolor=\"0.8\")\n",
    "\n",
    "# customize the map\n",
    "ax.axis(\"off\")\n",
    "\n",
    "# add title \n",
    "ax.set_title(\"Preventable death rate in London\", fontdict={\"fontsize\":\"25\", \"fontweight\":\"3\"})\n",
    "\n",
    "# create an annotation for the data source\n",
    "ax.annotate(\"Source: London Datastore, 2014\", xy=(0.1, 0.08), xycoords=\"figure fraction\",\n",
    "            horizontalalignment=\"left\", verticalalignment=\"top\", fontsize=12, color=\"#555555\")\n",
    "\n",
    "# create a colorbar as a legend\n",
    "sm = plt.cm.ScalarMappable(cmap=\"Blues\", norm=plt.Normalize(vmin=vmin, vmax=vmax))\n",
    "\n",
    "# empty array for the data range\n",
    "sm._A = []\n",
    "\n",
    "# add the colorbar to the figure\n",
    "cbar = fig.colorbar(sm)\n",
    "\n",
    "# save the figure as png\n",
    "# fig.savefig(\"map_export.png\", dpi=300)"
   ]
  },
  {
   "cell_type": "code",
   "execution_count": null,
   "metadata": {},
   "outputs": [],
   "source": []
  },
  {
   "cell_type": "code",
   "execution_count": 8,
   "metadata": {},
   "outputs": [
    {
     "data": {
      "text/html": [
       "<div>\n",
       "<style scoped>\n",
       "    .dataframe tbody tr th:only-of-type {\n",
       "        vertical-align: middle;\n",
       "    }\n",
       "\n",
       "    .dataframe tbody tr th {\n",
       "        vertical-align: top;\n",
       "    }\n",
       "\n",
       "    .dataframe thead th {\n",
       "        text-align: right;\n",
       "    }\n",
       "</style>\n",
       "<table border=\"1\" class=\"dataframe\">\n",
       "  <thead>\n",
       "    <tr style=\"text-align: right;\">\n",
       "      <th></th>\n",
       "      <th>f_code</th>\n",
       "      <th>coc</th>\n",
       "      <th>nam</th>\n",
       "      <th>laa</th>\n",
       "      <th>pop</th>\n",
       "      <th>ypc</th>\n",
       "      <th>adm_code</th>\n",
       "      <th>salb</th>\n",
       "      <th>soc</th>\n",
       "      <th>geometry</th>\n",
       "    </tr>\n",
       "  </thead>\n",
       "  <tbody>\n",
       "    <tr>\n",
       "      <th>0</th>\n",
       "      <td>FA001</td>\n",
       "      <td>JPN</td>\n",
       "      <td>Hokkai Do</td>\n",
       "      <td>Sapporo Shi</td>\n",
       "      <td>1930496</td>\n",
       "      <td>2014</td>\n",
       "      <td>01100</td>\n",
       "      <td>UNK</td>\n",
       "      <td>JPN</td>\n",
       "      <td>POLYGON ((141.44980 43.16333, 141.44769 43.157...</td>\n",
       "    </tr>\n",
       "    <tr>\n",
       "      <th>1</th>\n",
       "      <td>FA001</td>\n",
       "      <td>JPN</td>\n",
       "      <td>Hokkai Do</td>\n",
       "      <td>Hakodate Shi</td>\n",
       "      <td>274485</td>\n",
       "      <td>2014</td>\n",
       "      <td>01202</td>\n",
       "      <td>UNK</td>\n",
       "      <td>JPN</td>\n",
       "      <td>POLYGON ((140.86501 42.01013, 140.86800 42.008...</td>\n",
       "    </tr>\n",
       "    <tr>\n",
       "      <th>2</th>\n",
       "      <td>FA001</td>\n",
       "      <td>JPN</td>\n",
       "      <td>Hokkai Do</td>\n",
       "      <td>Otaru Shi</td>\n",
       "      <td>127224</td>\n",
       "      <td>2014</td>\n",
       "      <td>01203</td>\n",
       "      <td>UNK</td>\n",
       "      <td>JPN</td>\n",
       "      <td>POLYGON ((141.24820 43.15973, 141.24680 43.158...</td>\n",
       "    </tr>\n",
       "    <tr>\n",
       "      <th>3</th>\n",
       "      <td>FA001</td>\n",
       "      <td>JPN</td>\n",
       "      <td>Hokkai Do</td>\n",
       "      <td>Asahikawa Shi</td>\n",
       "      <td>349057</td>\n",
       "      <td>2014</td>\n",
       "      <td>01204</td>\n",
       "      <td>UNK</td>\n",
       "      <td>JPN</td>\n",
       "      <td>POLYGON ((142.43280 43.94814, 142.43790 43.944...</td>\n",
       "    </tr>\n",
       "    <tr>\n",
       "      <th>4</th>\n",
       "      <td>FA001</td>\n",
       "      <td>JPN</td>\n",
       "      <td>Hokkai Do</td>\n",
       "      <td>Muroran Shi</td>\n",
       "      <td>91276</td>\n",
       "      <td>2014</td>\n",
       "      <td>01205</td>\n",
       "      <td>UNK</td>\n",
       "      <td>JPN</td>\n",
       "      <td>POLYGON ((140.99080 42.43800, 140.99680 42.436...</td>\n",
       "    </tr>\n",
       "  </tbody>\n",
       "</table>\n",
       "</div>"
      ],
      "text/plain": [
       "  f_code  coc        nam            laa      pop   ypc adm_code salb  soc  \\\n",
       "0  FA001  JPN  Hokkai Do    Sapporo Shi  1930496  2014    01100  UNK  JPN   \n",
       "1  FA001  JPN  Hokkai Do   Hakodate Shi   274485  2014    01202  UNK  JPN   \n",
       "2  FA001  JPN  Hokkai Do      Otaru Shi   127224  2014    01203  UNK  JPN   \n",
       "3  FA001  JPN  Hokkai Do  Asahikawa Shi   349057  2014    01204  UNK  JPN   \n",
       "4  FA001  JPN  Hokkai Do    Muroran Shi    91276  2014    01205  UNK  JPN   \n",
       "\n",
       "                                            geometry  \n",
       "0  POLYGON ((141.44980 43.16333, 141.44769 43.157...  \n",
       "1  POLYGON ((140.86501 42.01013, 140.86800 42.008...  \n",
       "2  POLYGON ((141.24820 43.15973, 141.24680 43.158...  \n",
       "3  POLYGON ((142.43280 43.94814, 142.43790 43.944...  \n",
       "4  POLYGON ((140.99080 42.43800, 140.99680 42.436...  "
      ]
     },
     "execution_count": 8,
     "metadata": {},
     "output_type": "execute_result"
    }
   ],
   "source": [
    "jp_fp = \"gm-jpn-all_u_2_2/polbnda_jpn.shp\"\n",
    "jp_map_df = gpd.read_file(jp_fp)\n",
    "# check data type so we can see that this is not a normal dataframe, but a GEOdataframe\n",
    "jp_map_df.head()"
   ]
  },
  {
   "cell_type": "code",
   "execution_count": 32,
   "metadata": {
    "scrolled": true
   },
   "outputs": [
    {
     "data": {
      "text/plain": [
       "<matplotlib.axes._subplots.AxesSubplot at 0x7f0a75f4c8e0>"
      ]
     },
     "execution_count": 32,
     "metadata": {},
     "output_type": "execute_result"
    },
    {
     "data": {
      "image/png": "[encoded data removed]",
      "text/plain": [
       "<Figure size 432x288 with 1 Axes>"
      ]
     },
     "metadata": {
      "needs_background": "light"
     },
     "output_type": "display_data"
    }
   ],
   "source": [
    "# Plot of Japan\n",
    "jp_map_df.plot()"
   ]
  },
  {
   "cell_type": "code",
   "execution_count": 33,
   "metadata": {},
   "outputs": [
    {
     "data": {
      "text/plain": [
       "<matplotlib.axes._subplots.AxesSubplot at 0x7f0a75df0550>"
      ]
     },
     "execution_count": 33,
     "metadata": {},
     "output_type": "execute_result"
    },
    {
     "data": {
      "image/png": "[encoded data removed]",
      "text/plain": [
       "<Figure size 432x288 with 1 Axes>"
      ]
     },
     "metadata": {
      "needs_background": "light"
     },
     "output_type": "display_data"
    }
   ],
   "source": [
    "# Plot of Toyohashi\n",
    "jp_map_df[jp_map_df[\"laa\"]==\"Toyohashi Shi\"].plot()"
   ]
  },
  {
   "cell_type": "code",
   "execution_count": 38,
   "metadata": {},
   "outputs": [
    {
     "data": {
      "text/plain": [
       "<matplotlib.axes._subplots.AxesSubplot at 0x7f0a75c24d90>"
      ]
     },
     "execution_count": 38,
     "metadata": {},
     "output_type": "execute_result"
    },
    {
     "data": {
      "image/png": "[encoded data removed]",
      "text/plain": [
       "<Figure size 432x288 with 1 Axes>"
      ]
     },
     "metadata": {
      "needs_background": "light"
     },
     "output_type": "display_data"
    }
   ],
   "source": [
    "# Plot of Toyohashi\n",
    "jp_map_df[jp_map_df[\"laa\"]==\"Itabashi Ku\"].plot()"
   ]
  },
  {
   "cell_type": "code",
   "execution_count": 37,
   "metadata": {
    "scrolled": true
   },
   "outputs": [
    {
     "data": {
      "text/plain": [
       "<matplotlib.axes._subplots.AxesSubplot at 0x7f0a75ba89a0>"
      ]
     },
     "execution_count": 37,
     "metadata": {},
     "output_type": "execute_result"
    },
    {
     "data": {
      "image/png": "[encoded data removed]",
      "text/plain": [
       "<Figure size 432x288 with 1 Axes>"
      ]
     },
     "metadata": {
      "needs_background": "light"
     },
     "output_type": "display_data"
    }
   ],
   "source": [
    "# Plot of Tokyo\n",
    "jp_map_df[jp_map_df[\"nam\"]==\"Miyagi Ken\"].plot()"
   ]
  },
  {
   "cell_type": "code",
   "execution_count": 35,
   "metadata": {},
   "outputs": [
    {
     "data": {
      "text/plain": [
       "0       Hokkai Do\n",
       "1       Hokkai Do\n",
       "2       Hokkai Do\n",
       "3       Hokkai Do\n",
       "4       Hokkai Do\n",
       "          ...    \n",
       "2909     Tokyo To\n",
       "2910     Tokyo To\n",
       "2911     Tokyo To\n",
       "2912     Tokyo To\n",
       "2913    Aichi Ken\n",
       "Name: nam, Length: 2914, dtype: object"
      ]
     },
     "execution_count": 35,
     "metadata": {},
     "output_type": "execute_result"
    }
   ],
   "source": [
    "jp_map_df[\"nam\"]"
   ]
  }
 ],
 "metadata": {
  "kernelspec": {
   "display_name": "Python 3",
   "language": "python",
   "name": "python3"
  },
  "language_info": {
   "codemirror_mode": {
    "name": "ipython",
    "version": 3
   },
   "file_extension": ".py",
   "mimetype": "text/x-python",
   "name": "python",
   "nbconvert_exporter": "python",
   "pygments_lexer": "ipython3",
   "version": "3.8.2"
  }
 },
 "nbformat": 4,
 "nbformat_minor": 4
}
