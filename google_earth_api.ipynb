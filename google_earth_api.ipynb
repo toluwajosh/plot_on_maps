{
 "cells": [
  {
   "cell_type": "code",
   "execution_count": 2,
   "metadata": {
    "scrolled": true
   },
   "outputs": [
    {
     "data": {
      "text/html": [
       "<p>To authorize access needed by Earth Engine, open the following\n",
       "        URL in a web browser and follow the instructions:</p>\n",
       "        <p><a href=https://accounts.google.com/o/oauth2/auth?client_id=517222506229-vsmmajv00ul0bs7p89v5m89qs8eb9359.apps.googleusercontent.com&scope=https%3A%2F%2Fwww.googleapis.com%2Fauth%2Fearthengine+https%3A%2F%2Fwww.googleapis.com%2Fauth%2Fdevstorage.full_control&redirect_uri=urn%3Aietf%3Awg%3Aoauth%3A2.0%3Aoob&response_type=code&code_challenge=B6C5QcFBUjNjKf6a-VKdvgK6hSyv3NWH2eK29Q9-DbI&code_challenge_method=S256>https://accounts.google.com/o/oauth2/auth?client_id=517222506229-vsmmajv00ul0bs7p89v5m89qs8eb9359.apps.googleusercontent.com&scope=https%3A%2F%2Fwww.googleapis.com%2Fauth%2Fearthengine+https%3A%2F%2Fwww.googleapis.com%2Fauth%2Fdevstorage.full_control&redirect_uri=urn%3Aietf%3Awg%3Aoauth%3A2.0%3Aoob&response_type=code&code_challenge=B6C5QcFBUjNjKf6a-VKdvgK6hSyv3NWH2eK29Q9-DbI&code_challenge_method=S256</a></p>\n",
       "        <p>The authorization workflow will generate a code, which you\n",
       "        should paste in the box below</p>\n",
       "        "
      ],
      "text/plain": [
       "<IPython.core.display.HTML object>"
      ]
     },
     "metadata": {},
     "output_type": "display_data"
    },
    {
     "name": "stdout",
     "output_type": "stream",
     "text": [
      "Enter verification code: 4/2AGxwFF-qCwfZF1SwmJJgD2Qyvum7Kf9Envwm39U8YERKtacfSQ1E_g\n",
      "\n",
      "Successfully saved authorization token.\n"
     ]
    }
   ],
   "source": [
    "import ee\n",
    "ee.Authenticate()\n",
    "ee.Initialize()"
   ]
  },
  {
   "cell_type": "code",
   "execution_count": 27,
   "metadata": {},
   "outputs": [],
   "source": [
    "# Import the Image function from the IPython.display module. \n",
    "from IPython.display import Image"
   ]
  },
  {
   "cell_type": "markdown",
   "metadata": {},
   "source": [
    "### Simple way to get image"
   ]
  },
  {
   "cell_type": "code",
   "execution_count": 4,
   "metadata": {
    "scrolled": false
   },
   "outputs": [
    {
     "name": "stdout",
     "output_type": "stream",
     "text": [
      "{'type': 'Image', 'bands': [{'id': 'elevation', 'data_type': {'type': 'PixelType', 'precision': 'int', 'min': -32768, 'max': 32767}, 'dimensions': [432000, 144000], 'crs': 'EPSG:4326', 'crs_transform': [0.000833333333333, 0, -180, 0, -0.000833333333333, 60]}], 'version': 1494271934303000.0, 'id': 'srtm90_v4', 'properties': {'system:time_start': 950227200000, 'system:time_end': 951177600000, 'system:asset_size': 18827626666}}\n"
     ]
    },
    {
     "data": {
      "text/html": [
       "<img src=\"https://earthengine.googleapis.com/v1alpha/projects/earthengine-legacy/thumbnails/cee7a2d1e4a142d97288dab95490a080-0febb2ea49491a79b105aaf6ac836a53:getPixels\"/>"
      ],
      "text/plain": [
       "<IPython.core.display.Image object>"
      ]
     },
     "execution_count": 4,
     "metadata": {},
     "output_type": "execute_result"
    }
   ],
   "source": [
    "image = ee.Image('srtm90_v4')\n",
    "print(image.getInfo())\n",
    "Image(url = image.getThumbURL({'min': 0, 'max': 4000, 'dimensions': 512,\n",
    "                'palette': ['006633', 'E5FFCC', '662A00', 'D8D8D8', 'F5F5F5']}))"
   ]
  },
  {
   "cell_type": "code",
   "execution_count": 5,
   "metadata": {},
   "outputs": [
    {
     "name": "stdout",
     "output_type": "stream",
     "text": [
      "https://earthengine.googleapis.com/v1alpha/projects/earthengine-legacy/thumbnails/6372828bf91c925d155cb0ea8c792d61-0fb3e16e858e16dea80575c442f39614:getPixels\n"
     ]
    }
   ],
   "source": [
    "# Get a download URL for an image.\n",
    "image1 = ee.Image('srtm90_v4')\n",
    "path = image1.getDownloadUrl({\n",
    "    'scale': 30,\n",
    "    'crs': 'EPSG:4326',\n",
    "    'region': '[[-120, 35], [-119, 35], [-119, 34], [-120, 34]]'\n",
    "})\n",
    "print(path)"
   ]
  },
  {
   "cell_type": "markdown",
   "metadata": {},
   "source": [
    "## Using thirdparty packages"
   ]
  },
  {
   "cell_type": "code",
   "execution_count": 6,
   "metadata": {},
   "outputs": [],
   "source": [
    "import folium\n",
    "import geehydro\n",
    "from datetime import datetime as dt"
   ]
  },
  {
   "cell_type": "code",
   "execution_count": 7,
   "metadata": {},
   "outputs": [],
   "source": [
    "# the Ituna/Itatá Indigenous Land in Brazil.\n",
    "Ituna_map = folium.Map(location=[-4.06738, -52.034], zoom_start=10)\n",
    "# Ituna_map"
   ]
  },
  {
   "cell_type": "code",
   "execution_count": 8,
   "metadata": {},
   "outputs": [
    {
     "name": "stdout",
     "output_type": "stream",
     "text": [
      "Cloud Cover (%): 0\n"
     ]
    }
   ],
   "source": [
    "# get data from landsat-8\n",
    "landsat = ee.ImageCollection(\"LANDSAT/LC08/C01/T1_SR\")\n",
    "# setting the Area of Interest (AOI)\n",
    "Ituna_AOI = ee.Geometry.Rectangle([-51.84448, -3.92180,\n",
    "                                   -52.23999, -4.38201])\n",
    "# filter area\n",
    "landsat_AOI = landsat.filterBounds(Ituna_AOI)\n",
    "\n",
    "\n",
    "# choose dates\n",
    "# landsat = landsat.filterDate('2019-07-01','2019-12-01')\n",
    "# landsat_AOI.getInfo()\n",
    "\n",
    "# choose image\n",
    "# the least cloudy image\n",
    "least_cloudy = ee.Image(landsat_AOI.sort('CLOUD_COVER').first())\n",
    "# how cloudy is it?\n",
    "print('Cloud Cover (%):', least_cloudy.get('CLOUD_COVER').getInfo())"
   ]
  },
  {
   "cell_type": "code",
   "execution_count": 9,
   "metadata": {
    "scrolled": true
   },
   "outputs": [
    {
     "data": {
      "text/html": [
       "<img src=\"https://earthengine.googleapis.com/v1alpha/projects/earthengine-legacy/thumbnails/3dc62f4984423f924ef1e479a9d781bb-fe9e69b64121d8b90730788355194021:getPixels\"/>"
      ],
      "text/plain": [
       "<IPython.core.display.Image object>"
      ]
     },
     "execution_count": 9,
     "metadata": {},
     "output_type": "execute_result"
    }
   ],
   "source": [
    "# visualizing satellite imagery\n",
    "# setting the Area of Interest (AOI)\n",
    "# Ituna_AOI = ee.Geometry.Rectangle([-51.84448, -3.92180,\n",
    "#                                    -52.23999, -4.38201])\n",
    "parameters = {'min': 0,\n",
    "              'max': 1000,\n",
    "              'dimensions': 512,\n",
    "              'bands': ['B4', 'B3', 'B2'],\n",
    "              'region': Ituna_AOI}\n",
    "             \n",
    "Image(url = least_cloudy.getThumbUrl(parameters))"
   ]
  },
  {
   "cell_type": "markdown",
   "metadata": {},
   "source": [
    "## Image collections"
   ]
  },
  {
   "cell_type": "markdown",
   "metadata": {},
   "source": [
    "**Landsat-8**"
   ]
  },
  {
   "cell_type": "code",
   "execution_count": 10,
   "metadata": {
    "scrolled": true
   },
   "outputs": [
    {
     "data": {
      "text/html": [
       "<img src=\"https://earthengine.googleapis.com/v1alpha/projects/earthengine-legacy/thumbnails/7cb17488a12ed6bb1af3a3122c38db65-e27fda32d31aa317d3e029e984759232:getPixels\"/>"
      ],
      "text/plain": [
       "<IPython.core.display.Image object>"
      ]
     },
     "execution_count": 10,
     "metadata": {},
     "output_type": "execute_result"
    }
   ],
   "source": [
    "# get data from landsat-8\n",
    "landsat8 = ee.ImageCollection(\"LANDSAT/LC08/C01/T1_SR\")\n",
    "\n",
    "# setting the Area of Interest (AOI)\n",
    "sat_AOI = ee.Geometry.Rectangle([137.3, 34.65, 137.5, 34.85])\n",
    "\n",
    "# filter area\n",
    "landsat8_AOI = landsat8.filterBounds(sat_AOI)\n",
    "\n",
    "least_cloudy8 = ee.Image(landsat8_AOI.sort('CLOUD_COVER').first())\n",
    "\n",
    "parameters8 = {'min': 0,\n",
    "              'max': 3000,\n",
    "              'dimensions': 1024*3,\n",
    "              'bands': ['B4', 'B3', 'B2'],\n",
    "              'region': sat_AOI}\n",
    "             \n",
    "Image(url = least_cloudy8.getThumbUrl(parameters8))"
   ]
  },
  {
   "cell_type": "markdown",
   "metadata": {},
   "source": [
    "**Sentinel-2 MSI: MultiSpectral Instrument, Level-2A**"
   ]
  },
  {
   "cell_type": "code",
   "execution_count": 11,
   "metadata": {},
   "outputs": [],
   "source": [
    "def maskS2clouds(image):\n",
    "    \"\"\"\n",
    "     Function to mask clouds using the Sentinel-2 QA band\n",
    "     @param {ee.Image} image Sentinel-2 image\n",
    "     @return {ee.Image} cloud masked Sentinel-2 image\n",
    "     \"\"\"\n",
    "    qa = image.select('QA60');\n",
    "\n",
    "    # Bits 10 and 11 are clouds and cirrus, respectively.\n",
    "    cloudBitMask = (1 << 10)\n",
    "    cirrusBitMask = (1 << 11)\n",
    "\n",
    "    # Both flags should be set to zero, indicating clear conditions.\n",
    "    mask = qa.bitwiseAnd(cloudBitMask).eq(0) and (qa.bitwiseAnd(cirrusBitMask).eq(0))\n",
    "\n",
    "    return image.updateMask(mask).divide(10000)"
   ]
  },
  {
   "cell_type": "code",
   "execution_count": 30,
   "metadata": {
    "scrolled": false
   },
   "outputs": [
    {
     "data": {
      "text/html": [
       "<img src=\"https://earthengine.googleapis.com/v1alpha/projects/earthengine-legacy/thumbnails/089107da4dad2ce9f65228a78b36b6ed-3ccc2ccb89351e257d681874527c7bd1:getPixels\"/>"
      ],
      "text/plain": [
       "<IPython.core.display.Image object>"
      ]
     },
     "execution_count": 30,
     "metadata": {},
     "output_type": "execute_result"
    }
   ],
   "source": [
    "landsat = ee.ImageCollection(\"COPERNICUS/S2_SR\")\\\n",
    "            .filterDate('2018-01-01', '2018-12-31')\\\n",
    "            .filter(ee.Filter.lt('CLOUDY_PIXEL_PERCENTAGE',20))\\\n",
    "            .map(maskS2clouds)\n",
    "# setting the Area of Interest (AOI)\n",
    "# all region\n",
    "# Ituna_AOI = ee.Geometry.Rectangle([137.3, 34.65, 137.5, 34.85])\n",
    "# very small region  34.7,34.75,137.325,137.35\n",
    "# sat_region = ee.Geometry.Rectangle([137.3, 34.65, 137.325, 34.675])\n",
    "# sat_region = ee.Geometry.Rectangle([137.325, 34.66, 137.375, 34.70])\n",
    "sat_region = ee.Geometry.Rectangle([137.3, 34.66, 137.375, 34.70])\n",
    "34.65, 137.3, 34.675, 137.32500000000002\n",
    "\n",
    "# filter area\n",
    "landsat_AOI = landsat.filterBounds(sat_region)\n",
    "\n",
    "least_cloudy = ee.Image(landsat_AOI.sort('LAND_COVER').first())\n",
    "\n",
    "parameters = {'min': 0,\n",
    "              'max': 0.3,\n",
    "              # 'dimensions': 1024*3,\n",
    "              'scale':10,\n",
    "              'bands': ['B4', 'B3', 'B2'],\n",
    "              'region': sat_region}\n",
    "             \n",
    "Image(url = least_cloudy.getThumbUrl(parameters))"
   ]
  },
  {
   "cell_type": "code",
   "execution_count": null,
   "metadata": {},
   "outputs": [],
   "source": [
    "# export image\n",
    "color_image = landsat_AOI.select(['B4', 'B3', 'B2'])\n",
    "color_image = ee.Image(landsat_AOI.sort('LAND_COVER').first())\n",
    "task_config = {\n",
    "    # 'description': 'imageToDriveExample',\n",
    "    'scale': 5,\n",
    "    'region': Ituna_AOI, #[\"coordinates\"][0]\n",
    "    'folder':'map_exports',\n",
    "    }\n",
    "task = ee.batch.Export.image(color_image, 'toyohashi_export_image', task_config)\n",
    "task.start()"
   ]
  },
  {
   "cell_type": "code",
   "execution_count": 13,
   "metadata": {},
   "outputs": [],
   "source": [
    "# another export format\n",
    "landsat = ee.ImageCollection(\"COPERNICUS/S2_SR\")\\\n",
    "            .filterDate('2018-01-01', '2018-12-31')\\\n",
    "            .filter(ee.Filter.lt('CLOUDY_PIXEL_PERCENTAGE',10))\\\n",
    "            .map(maskS2clouds).select(['B4', 'B3', 'B2'])\n",
    "# setting the Area of Interest (AOI)\n",
    "# Ituna_AOI = ee.Geometry.Rectangle([137.3, 34.65, 137.5, 34.85])\n",
    "# Ituna_AOI = ee.Geometry.Rectangle([137.325, 34.65, 137.35, 34.7])\n",
    "# Ituna_AOI = ee.Geometry.Rectangle([137.325, 34.65, 137.35, 34.675])\n",
    "# Ituna_AOI = ee.Geometry.Rectangle([137.325, 34.65, 137.33, 34.655])\n",
    "# Ituna_AOI = ee.Geometry.Rectangle([137.3, 34.65, 137.325, 34.675])\n",
    "Ituna_AOI = ee.Geometry.Rectangle([137.3125, 34.6625, 137.325, 34.675])\n",
    "# 137.3:137.325, 34.65:34.675\n",
    "# filter area\n",
    "landsat_AOI = landsat.filterBounds(Ituna_AOI)\n",
    "\n",
    "least_cloudy = ee.Image(landsat_AOI.sort('LAND_COVER').first())\n",
    "task_config = {\n",
    "    'scale': 1,\n",
    "    'region': Ituna_AOI,\n",
    "    'folder':'map_exports',\n",
    "    'crs': 'EPSG:4326'\n",
    "    }\n",
    "task = ee.batch.Export.image(least_cloudy, 'toyohashi_export_full_scale_smaller_normed', task_config)\n",
    "task.start()"
   ]
  },
  {
   "cell_type": "markdown",
   "metadata": {},
   "source": [
    "#### export tiles of the toyohashi area\n",
    "Coordinates:\n",
    "34.65 - 34.85\n",
    "137.3 - 137.5\n",
    "\n",
    "Resolution:\n",
    "0.0125 * 0.0125"
   ]
  },
  {
   "cell_type": "code",
   "execution_count": 14,
   "metadata": {},
   "outputs": [],
   "source": [
    "import numpy as np"
   ]
  },
  {
   "cell_type": "code",
   "execution_count": 121,
   "metadata": {
    "scrolled": true
   },
   "outputs": [
    {
     "data": {
      "text/plain": [
       "[[137.35, 34.65, 137.375, 34.675],\n",
       " [137.35, 34.675, 137.375, 34.7],\n",
       " [137.375, 34.65, 137.4, 34.675],\n",
       " [137.375, 34.675, 137.4, 34.7]]"
      ]
     },
     "execution_count": 121,
     "metadata": {},
     "output_type": "execute_result"
    }
   ],
   "source": [
    "def grid_pairs_old(min_x, max_x, min_y, max_y, resolution):\n",
    "    # transform to origin\n",
    "    max_x -= min_x\n",
    "    max_y -= min_y\n",
    "    grid_x, grid_y = np.mgrid[0:max_x+resolution:resolution, 0:max_y+resolution:resolution]\n",
    "    \n",
    "    grid_points = list(zip(grid_x.flatten(), grid_y.flatten()))\n",
    "#     print(grid_points)\n",
    "    skips = int(max_x/resolution)+2\n",
    "#     print(\"skips: \", skips)\n",
    "    count = 0\n",
    "    pairs_coords = []\n",
    "    for i, point in enumerate(grid_points[:-skips]):\n",
    "        if point[1]==max_x:\n",
    "            continue\n",
    "        count+=1\n",
    "#         print(point)\n",
    "        pairs_coords.append([point[0]+min_x, point[1]+min_y, grid_points[i+skips][0]+min_x, grid_points[i+skips][1]+min_y])\n",
    "    return pairs_coords\n",
    "\n",
    "def grid_pairs(min_x, max_x, min_y, max_y, resolution):\n",
    "    # transform to origin\n",
    "    nx, ny = (int((max_x-min_x)/resolution)+1, int((max_y-min_y)/resolution)+1)\n",
    "    x = np.linspace(min_x, max_x, nx)\n",
    "    y = np.linspace(min_y, max_y, ny)\n",
    "    xv, yv = np.meshgrid(x, y)\n",
    "    grid_points = list(zip(yv.flatten(), xv.flatten()))\n",
    "    # print(grid_points)\n",
    "    skips = int((max_x-min_x)/resolution)+2\n",
    "    count = 0\n",
    "    pairs_coords = []\n",
    "    for i, point in enumerate(grid_points[:-skips]):\n",
    "        if point[1]==max_x:\n",
    "            continue\n",
    "        count+=1\n",
    "        pairs_coords.append([point[0], point[1], grid_points[i+skips][0], grid_points[i+skips][1]])\n",
    "    return pairs_coords\n",
    "# grid_pairs(0,0.1,0,0.1,0.05)\n",
    "# grid_pairs(0,1,0,1,0.5)\n",
    "# grid_pairs(0,1,0,1,0.5)\n",
    "grid_pairs(34.65,34.7,137.35,137.4,0.0125*2)"
   ]
  },
  {
   "cell_type": "code",
   "execution_count": 114,
   "metadata": {
    "scrolled": true
   },
   "outputs": [
    {
     "name": "stdout",
     "output_type": "stream",
     "text": [
      "[(0.0, 0.0), (0.0, 0.05), (0.0, 0.1), (0.05, 0.0), (0.05, 0.05), (0.05, 0.1), (0.1, 0.0), (0.1, 0.05), (0.1, 0.1)]\n"
     ]
    },
    {
     "data": {
      "text/plain": [
       "[[0.0, 0.0, 0.05, 0.05],\n",
       " [0.0, 0.05, 0.05, 0.1],\n",
       " [0.05, 0.0, 0.1, 0.05],\n",
       " [0.05, 0.05, 0.1, 0.1]]"
      ]
     },
     "execution_count": 114,
     "metadata": {},
     "output_type": "execute_result"
    }
   ],
   "source": [
    "grid_pairs(0,0.1,0,0.1,0.05)"
   ]
  },
  {
   "cell_type": "raw",
   "metadata": {},
   "source": [
    "nx, ny = (3, 3)\n",
    "x = np.linspace(0, 2, nx)\n",
    "y = np.linspace(0, 2, ny)\n",
    "print(x)\n",
    "xv, yv = np.meshgrid(x, y)\n",
    "print(list(zip(yv.flatten(), xv.flatten())))"
   ]
  },
  {
   "cell_type": "code",
   "execution_count": 115,
   "metadata": {
    "scrolled": false
   },
   "outputs": [
    {
     "name": "stdout",
     "output_type": "stream",
     "text": [
      "12\n"
     ]
    }
   ],
   "source": [
    "# coords = grid_pairs(34.65,34.85,137.3,137.5,0.0125*2)\n",
    "# coords = grid_pairs(34.7,34.75,137.325,137.35,0.0125*2) # for greenhouse sample images\n",
    "# coords = grid_pairs(34.66,34.70,137.325,137.375,0.0125*2) # batch 2 greenhouse sample images\n",
    "print(len(coords))"
   ]
  },
  {
   "cell_type": "code",
   "execution_count": 17,
   "metadata": {},
   "outputs": [],
   "source": [
    "from time import sleep"
   ]
  },
  {
   "cell_type": "code",
   "execution_count": 132,
   "metadata": {},
   "outputs": [
    {
     "data": {
      "text/plain": [
       "56"
      ]
     },
     "execution_count": 132,
     "metadata": {},
     "output_type": "execute_result"
    }
   ],
   "source": [
    "# grid_pairs(34.7,34.75,137.35,137.375,0.0125*2)\n",
    "# grid_pairs(0,1,0,2,1)\n",
    "len(grid_pairs(34.65,34.85,137.3,137.5,0.025))"
   ]
  },
  {
   "cell_type": "code",
   "execution_count": 128,
   "metadata": {
    "scrolled": true
   },
   "outputs": [
    {
     "name": "stdout",
     "output_type": "stream",
     "text": [
      "1: 137.3000_34.6500\n",
      "2: 137.3000_34.6750\n",
      "3: 137.3000_34.7000\n",
      "4: 137.3000_34.7250\n",
      "5: 137.3000_34.7500\n",
      "6: 137.3000_34.7750\n",
      "7: 137.3000_34.8000\n",
      "8: 137.3000_34.8250\n",
      "9: 137.3286_34.6500\n",
      "10: 137.3286_34.6750\n",
      "11: 137.3286_34.7000\n",
      "12: 137.3286_34.7250\n",
      "13: 137.3286_34.7500\n",
      "14: 137.3286_34.7750\n",
      "15: 137.3286_34.8000\n",
      "16: 137.3286_34.8250\n",
      "17: 137.3571_34.6500\n",
      "18: 137.3571_34.6750\n",
      "19: 137.3571_34.7000\n",
      "20: 137.3571_34.7250\n",
      "21: 137.3571_34.7500\n",
      "22: 137.3571_34.7750\n",
      "23: 137.3571_34.8000\n",
      "24: 137.3571_34.8250\n",
      "25: 137.3857_34.6500\n",
      "26: 137.3857_34.6750\n",
      "27: 137.3857_34.7000\n",
      "28: 137.3857_34.7250\n",
      "29: 137.3857_34.7500\n",
      "30: 137.3857_34.7750\n",
      "31: 137.3857_34.8000\n",
      "32: 137.3857_34.8250\n",
      "33: 137.4143_34.6500\n",
      "34: 137.4143_34.6750\n",
      "35: 137.4143_34.7000\n",
      "36: 137.4143_34.7250\n",
      "37: 137.4143_34.7500\n",
      "38: 137.4143_34.7750\n",
      "39: 137.4143_34.8000\n",
      "40: 137.4143_34.8250\n",
      "41: 137.4429_34.6500\n",
      "42: 137.4429_34.6750\n",
      "43: 137.4429_34.7000\n",
      "44: 137.4429_34.7250\n",
      "45: 137.4429_34.7500\n",
      "46: 137.4429_34.7750\n",
      "47: 137.4429_34.8000\n",
      "48: 137.4429_34.8250\n",
      "49: 137.4714_34.6500\n",
      "50: 137.4714_34.6750\n",
      "51: 137.4714_34.7000\n",
      "52: 137.4714_34.7250\n",
      "53: 137.4714_34.7500\n",
      "54: 137.4714_34.7750\n",
      "55: 137.4714_34.8000\n",
      "56: 137.4714_34.8250\n"
     ]
    }
   ],
   "source": [
    "# coords = grid_pairs(34.65,34.85,137.3,137.5,0.025) # all tiles\n",
    "coords = grid_pairs(34.675,34.725,137.35,137.4,0.025) # greenhouse samples\n",
    "\n",
    "# another export format\n",
    "landsat = ee.ImageCollection(\"COPERNICUS/S2_SR\")\\\n",
    "            .filterDate('2018-01-01', '2018-12-31')\\\n",
    "            .filter(ee.Filter.lt('CLOUDY_PIXEL_PERCENTAGE',20))\\\n",
    "            .map(maskS2clouds).select(['B4', 'B3', 'B2'])\n",
    "\n",
    "# export Area of Interests (AOI)\n",
    "count = 0\n",
    "for coord in coords:\n",
    "    name = \"{:.4f}_{:.4f}\".format(coord[0], coord[1])\n",
    "    count += 1\n",
    "    print(f\"{count}: {name}\")\n",
    "    export_AOI = ee.Geometry.Rectangle(coord)\n",
    "\n",
    "    # filter area\n",
    "    landsat_AOI = landsat.filterBounds(export_AOI)\n",
    "\n",
    "    least_cloudy = ee.Image(landsat_AOI.sort('LAND_COVER').first())\n",
    "    \n",
    "    task_config = {\n",
    "        'scale': 1,\n",
    "        'region': export_AOI,\n",
    "        'folder':'toyohashi_all_tiles',\n",
    "        'crs': 'EPSG:4326'\n",
    "        }\n",
    "    task = ee.batch.Export.image(least_cloudy, name, task_config)\n",
    "    task.start()\n",
    "    sleep(1)"
   ]
  },
  {
   "cell_type": "markdown",
   "metadata": {},
   "source": [
    "### NAIP: National Agriculture Imagery Program (has only US data)"
   ]
  },
  {
   "cell_type": "raw",
   "metadata": {},
   "source": [
    "dataset = ee.ImageCollection(\"USDA/NAIP/DOQQ\")\\\n",
    "            .filterDate('2017-01-01', '2018-12-31')\n",
    "# setting the Area of Interest (AOI)\n",
    "Ituna_AOI = ee.Geometry.Rectangle([137.3, 34.65, 137.5, 34.85])\n",
    "# Ituna_AOI = ee.Geometry.Rectangle([137.325, 34.65, 137.35, 34.7])\n",
    "# Ituna_AOI = ee.Geometry.Rectangle([137.325, 34.65, 137.35, 34.675])\n",
    "# Ituna_AOI = ee.Geometry.Rectangle([137.325, 34.65, 137.33, 34.655])\n",
    "\n",
    "# filter area\n",
    "dataset_AOI = dataset.filterBounds(Ituna_AOI).sort('LAND_COVER').first()\n",
    "\n",
    "trueColor = dataset_AOI.select(['R', 'G', 'B'])\n",
    "dataset_image = ee.Image(dataset_AOI)\n",
    "\n",
    "parameters = {'min': 0.0,\n",
    "              'max': 255,\n",
    "              'input':trueColor,\n",
    "              # 'image':trueColor,\n",
    "              'dimensions': 1024*3,\n",
    "              # 'scale':1,\n",
    "              # 'bands': ['B4', 'B3', 'B2'],\n",
    "              'bands': ['R', 'R', 'B'],\n",
    "              'region': Ituna_AOI\n",
    "             }\n",
    "             \n",
    "Image(url = dataset_image.getThumbUrl(parameters))"
   ]
  },
  {
   "cell_type": "code",
   "execution_count": 36,
   "metadata": {},
   "outputs": [],
   "source": [
    "import io\n",
    "from PIL import Image as pil_Image"
   ]
  },
  {
   "cell_type": "code",
   "execution_count": 176,
   "metadata": {
    "scrolled": true
   },
   "outputs": [
    {
     "data": {
      "text/html": [
       "<div style=\"width:100%;\"><div style=\"position:relative;width:100%;height:0;padding-bottom:60%;\"><span style=\"color:#565656\">Make this Notebook Trusted to load map: File -> Trust Notebook</span><iframe src=\"about:blank\" style=\"position:absolute;width:100%;height:100%;left:0;top:0;border:none !important;\" data-html=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 onload=\"this.contentDocument.open();this.contentDocument.write(atob(this.getAttribute('data-html')));this.contentDocument.close();\" allowfullscreen webkitallowfullscreen mozallowfullscreen></iframe></div></div>"
      ],
      "text/plain": [
       "<folium.folium.Map at 0x23fccdcc7c8>"
      ]
     },
     "execution_count": 176,
     "metadata": {},
     "output_type": "execute_result"
    }
   ],
   "source": [
    "# show the image on folium map\n",
    "bounds = [137.3, 34.65, 137.5, 34.85]\n",
    "sat_region = ee.Geometry.Rectangle(bounds)\n",
    "\n",
    "# # 1. Sentinel\n",
    "# satellite = ee.ImageCollection(\"COPERNICUS/S2_SR\")\\\n",
    "#             .filterDate('2018-01-01', '2018-12-31')\\\n",
    "#             .filter(ee.Filter.lt('CLOUDY_PIXEL_PERCENTAGE',5))\\\n",
    "#             .map(maskS2clouds).select(['B4', 'B3', 'B2'])\n",
    "# parameters = {'min': 0,\n",
    "#               'max': 0.3,\n",
    "#               #'bands': ['B4', 'B3', 'B2'],\n",
    "#               'region': sat_region}\n",
    "\n",
    "# 2. Landsat-8\n",
    "satellite = ee.ImageCollection(\"LANDSAT/LC08/C01/T1_SR\")\\\n",
    "                    .filterDate('2016-01-01', '2016-12-31')\n",
    "parameters = {'min': 0,\n",
    "              'max': 3000,\n",
    "              # 'scale':1,\n",
    "              # 'dimensions': 1024*3,\n",
    "              'bands': ['B4', 'B3', 'B2'],\n",
    "              'region': sat_region}\n",
    "\n",
    "# filter area\n",
    "satellite_AOI = satellite.filterBounds(sat_region)\n",
    "\n",
    "\n",
    "satellite_least_cloudy = ee.Image(satellite_AOI.sort('LAND_COVER').first())\n",
    "\n",
    "\n",
    "c1 = (bounds[0]+bounds[2])/2\n",
    "c2 = (bounds[1]+bounds[3])/2\n",
    "toyohashi_map = folium.Map(\n",
    "                            location=[c2,c1],\n",
    "                           zoom_start=10,\n",
    "                           # min_lat=34.65,\n",
    "                           # max_lat=34.85,\n",
    "                           # min_lon=137.3,\n",
    "                           # max_lon=137.5,\n",
    "                           # max_bounds=True,\n",
    "                           # zoom_control=False,\n",
    "                           # png_enabled=True\n",
    "                          )\n",
    "# Ituna_map\n",
    "toyohashi_map.addLayer(satellite_least_cloudy, parameters)\n",
    "\n",
    "# specify map boundary\n",
    "toyohashi_map.fit_bounds([[34.65, 137.3],[34.85, 137.5]])\n",
    "\n",
    "# show map\n",
    "toyohashi_map"
   ]
  },
  {
   "cell_type": "code",
   "execution_count": 177,
   "metadata": {},
   "outputs": [],
   "source": [
    "toyohashi_map.save(\"toyohashi.html\")"
   ]
  },
  {
   "cell_type": "raw",
   "metadata": {},
   "source": [
    "# toyohashi_map.render()\n",
    "img_data = toyohashi_map._to_png()\n",
    "img = pil_Image.open(io.BytesIO(img_data))\n",
    "img.save('image3.png')"
   ]
  },
  {
   "cell_type": "markdown",
   "metadata": {},
   "source": [
    "### Sentinel-2 MSI: MultiSpectral Instrument, Level-1C"
   ]
  },
  {
   "cell_type": "raw",
   "metadata": {},
   "source": [
    "landsat = ee.ImageCollection(\"COPERNICUS/S2\")\\\n",
    "            .filterDate('2020-01-01', '2020-01-30')\\\n",
    "            .filter(ee.Filter.lt('CLOUDY_PIXEL_PERCENTAGE',20))\\\n",
    "            .map(maskS2clouds)\n",
    "# setting the Area of Interest (AOI)\n",
    "Ituna_AOI = ee.Geometry.Rectangle([137.3, 34.65, 137.5, 34.85])\n",
    "# Ituna_AOI = ee.Geometry.Rectangle([137.325, 34.65, 137.35, 34.7])\n",
    "# Ituna_AOI = ee.Geometry.Rectangle([137.325, 34.65, 137.35, 34.675])\n",
    "# Ituna_AOI = ee.Geometry.Rectangle([137.325, 34.65, 137.33, 34.655])\n",
    "\n",
    "# filter area\n",
    "landsat_AOI = landsat.filterBounds(Ituna_AOI)\n",
    "\n",
    "least_cloudy = ee.Image(landsat_AOI.sort('LAND_COVER').first())\n",
    "\n",
    "parameters = {'min': 0,\n",
    "              'max': 0.3,\n",
    "              'dimensions': 1024*3,\n",
    "              # 'scale':1,\n",
    "              'bands': ['B4', 'B3', 'B2'],\n",
    "              'region': Ituna_AOI}\n",
    "             \n",
    "Image(url = least_cloudy.getThumbUrl(parameters))"
   ]
  },
  {
   "cell_type": "raw",
   "metadata": {
    "scrolled": true
   },
   "source": [
    "# Normalized Difference Vegetation Index (NDVI)\n",
    "ndvi = least_cloudy.normalizedDifference(['B5', 'B4'])\n",
    "palette = ['red', 'yellow', 'green']\n",
    "ndvi_parameters = {'min': 0,\n",
    "                   'max': 1,\n",
    "                   'dimensions': 512,\n",
    "                   'palette': palette,\n",
    "                   'region': Ituna_AOI}\n",
    "Ituna_map.addLayer(ndvi, ndvi_parameters)\n",
    "Ituna_map"
   ]
  },
  {
   "cell_type": "raw",
   "metadata": {},
   "source": [
    "# Print the elevation of Mount Everest.\n",
    "dem = ee.Image('USGS/SRTMGL1_003')\n",
    "# xy = ee.Geometry.Point([86.9250, 27.9881])\n",
    "# elev = dem.sample(xy, 30).first().get('elevation').getInfo()\n",
    "# print('Mount Everest elevation (m):', elev)"
   ]
  },
  {
   "cell_type": "raw",
   "metadata": {
    "scrolled": false
   },
   "source": [
    "# Display a thumbnail of global elevation.\n",
    "Image(url = dem.updateMask(dem.gt(0))\n",
    "  .getThumbURL({'min': 0, 'max': 4000, 'dimensions': 512,\n",
    "                'palette': ['006633', 'E5FFCC', '662A00', 'D8D8D8', 'F5F5F5']}))"
   ]
  },
  {
   "cell_type": "code",
   "execution_count": null,
   "metadata": {},
   "outputs": [],
   "source": [
    "landsat = ee.ImageCollection(\"LANDSAT/LC08/C01/T1_SR\")\n",
    "# setting the Area of Interest\n",
    "toyohashi = ee.Geometry.Rectangle([137.3, 32.65, 137.5, 34.85])\n",
    "\n",
    "# filter area\n",
    "landsat_toyo = landsat.filterBounds(toyohashi)\n",
    "\n",
    "\n",
    "# choose dates\n",
    "# landsat = landsat.filterDate('2019-07-01','2019-12-01')\n",
    "landsat_toyo = landsat_toyo.filterDate('2016-01-01', '2016-12-31')\n",
    "# print(landsat_AOI.getInfo())\n",
    "\n",
    "# choose image\n",
    "# the least cloudy image\n",
    "land_cover_toyo = ee.Image(landsat_toyo)\n",
    "print(type(land_cover_toyo))"
   ]
  },
  {
   "cell_type": "code",
   "execution_count": null,
   "metadata": {},
   "outputs": [],
   "source": [
    "# Display a thumbnail of global elevation.\n",
    "Image(url = land_cover_toyo.updateMask(land_cover_toyo.gt(1))\n",
    "  .getThumbURL({'min': 0, 'max': 4000, 'dimensions': 512,\n",
    "                'palette': ['006633', 'E5FFCC', '662A00', 'D8D8D8', 'F5F5F5']}))"
   ]
  },
  {
   "cell_type": "code",
   "execution_count": null,
   "metadata": {},
   "outputs": [],
   "source": [
    "\n",
    "# Import the matplotlib.pyplot module.\n",
    "import matplotlib.pyplot as plt\n",
    "\n",
    "# Fetch a Landsat image.\n",
    "img = ee.Image('LANDSAT/LT05/C01/T1_SR/LT05_034033_20000913')\n",
    "\n",
    "# Select Red and NIR bands, scale them, and sample 500 points.\n",
    "samp_fc = img.select(['B3','B4']).divide(10000).sample(scale=30, numPixels=500)\n",
    "\n",
    "# Arrange the sample as a list of lists.\n",
    "samp_dict = samp_fc.reduceColumns(ee.Reducer.toList().repeat(2), ['B3', 'B4'])\n",
    "samp_list = ee.List(samp_dict.get('list'))\n",
    "\n",
    "# Save server-side ee.List as a client-side Python list.\n",
    "samp_data = samp_list.getInfo()\n",
    "\n",
    "# Display a scatter plot of Red-NIR sample pairs using matplotlib.\n",
    "plt.scatter(samp_data[0], samp_data[1], alpha=0.2)\n",
    "plt.xlabel('Red', fontsize=12)\n",
    "plt.ylabel('NIR', fontsize=12)\n",
    "plt.show()"
   ]
  }
 ],
 "metadata": {
  "kernelspec": {
   "display_name": "Python 3",
   "language": "python",
   "name": "python3"
  },
  "language_info": {
   "codemirror_mode": {
    "name": "ipython",
    "version": 3
   },
   "file_extension": ".py",
   "mimetype": "text/x-python",
   "name": "python",
   "nbconvert_exporter": "python",
   "pygments_lexer": "ipython3",
   "version": "3.8.3"
  }
 },
 "nbformat": 4,
 "nbformat_minor": 4
}
