{
 "cells": [
  {
   "cell_type": "code",
   "execution_count": 2,
   "metadata": {
    "scrolled": true
   },
   "outputs": [
    {
     "data": {
      "text/html": [
       "<p>To authorize access needed by Earth Engine, open the following\n",
       "        URL in a web browser and follow the instructions:</p>\n",
       "        <p><a href=https://accounts.google.com/o/oauth2/auth?client_id=517222506229-vsmmajv00ul0bs7p89v5m89qs8eb9359.apps.googleusercontent.com&scope=https%3A%2F%2Fwww.googleapis.com%2Fauth%2Fearthengine+https%3A%2F%2Fwww.googleapis.com%2Fauth%2Fdevstorage.full_control&redirect_uri=urn%3Aietf%3Awg%3Aoauth%3A2.0%3Aoob&response_type=code&code_challenge=9l6IbRzESVpSHrcwFk6073TJN32X3NP5bfFUOwZRArE&code_challenge_method=S256>https://accounts.google.com/o/oauth2/auth?client_id=517222506229-vsmmajv00ul0bs7p89v5m89qs8eb9359.apps.googleusercontent.com&scope=https%3A%2F%2Fwww.googleapis.com%2Fauth%2Fearthengine+https%3A%2F%2Fwww.googleapis.com%2Fauth%2Fdevstorage.full_control&redirect_uri=urn%3Aietf%3Awg%3Aoauth%3A2.0%3Aoob&response_type=code&code_challenge=9l6IbRzESVpSHrcwFk6073TJN32X3NP5bfFUOwZRArE&code_challenge_method=S256</a></p>\n",
       "        <p>The authorization workflow will generate a code, which you\n",
       "        should paste in the box below</p>\n",
       "        "
      ],
      "text/plain": [
       "<IPython.core.display.HTML object>"
      ]
     },
     "metadata": {},
     "output_type": "display_data"
    },
    {
     "name": "stdout",
     "output_type": "stream",
     "text": [
      "Enter verification code: 4/1wFbd5QwwuXSOsGpjCenFBms1n2oprFcPKkCurdJVJeYv9cbsMAnOqI\n",
      "\n",
      "Successfully saved authorization token.\n"
     ]
    }
   ],
   "source": [
    "import ee\n",
    "ee.Authenticate()\n",
    "ee.Initialize()"
   ]
  },
  {
   "cell_type": "code",
   "execution_count": 5,
   "metadata": {},
   "outputs": [],
   "source": [
    "# Import the Image function from the IPython.display module. \n",
    "from IPython.display import Image"
   ]
  },
  {
   "cell_type": "markdown",
   "metadata": {},
   "source": [
    "### Simple way to get image"
   ]
  },
  {
   "cell_type": "code",
   "execution_count": 6,
   "metadata": {
    "scrolled": false
   },
   "outputs": [
    {
     "name": "stdout",
     "output_type": "stream",
     "text": [
      "{'type': 'Image', 'bands': [{'id': 'elevation', 'data_type': {'type': 'PixelType', 'precision': 'int', 'min': -32768, 'max': 32767}, 'dimensions': [432000, 144000], 'crs': 'EPSG:4326', 'crs_transform': [0.000833333333333, 0, -180, 0, -0.000833333333333, 60]}], 'version': 1494271934303000.0, 'id': 'srtm90_v4', 'properties': {'system:time_start': 950227200000, 'system:time_end': 951177600000, 'system:asset_size': 18827626666}}\n"
     ]
    },
    {
     "data": {
      "text/html": [
       "<img src=\"https://earthengine.googleapis.com/v1alpha/projects/earthengine-legacy/thumbnails/cee7a2d1e4a142d97288dab95490a080-f8f34d59e20311b57aa3a96de7aff63d:getPixels\"/>"
      ],
      "text/plain": [
       "<IPython.core.display.Image object>"
      ]
     },
     "execution_count": 6,
     "metadata": {},
     "output_type": "execute_result"
    }
   ],
   "source": [
    "image = ee.Image('srtm90_v4')\n",
    "print(image.getInfo())\n",
    "Image(url = image.getThumbURL({'min': 0, 'max': 4000, 'dimensions': 512,\n",
    "                'palette': ['006633', 'E5FFCC', '662A00', 'D8D8D8', 'F5F5F5']}))"
   ]
  },
  {
   "cell_type": "code",
   "execution_count": 7,
   "metadata": {},
   "outputs": [
    {
     "name": "stdout",
     "output_type": "stream",
     "text": [
      "https://earthengine.googleapis.com/v1alpha/projects/earthengine-legacy/thumbnails/6372828bf91c925d155cb0ea8c792d61-c97964bd6f908e69802eb75730360e0e:getPixels\n"
     ]
    }
   ],
   "source": [
    "# Get a download URL for an image.\n",
    "image1 = ee.Image('srtm90_v4')\n",
    "path = image1.getDownloadUrl({\n",
    "    'scale': 30,\n",
    "    'crs': 'EPSG:4326',\n",
    "    'region': '[[-120, 35], [-119, 35], [-119, 34], [-120, 34]]'\n",
    "})\n",
    "print(path)"
   ]
  },
  {
   "cell_type": "markdown",
   "metadata": {},
   "source": [
    "## Using thirdparty packages"
   ]
  },
  {
   "cell_type": "code",
   "execution_count": 8,
   "metadata": {},
   "outputs": [],
   "source": [
    "import folium\n",
    "import geehydro\n",
    "from datetime import datetime as dt"
   ]
  },
  {
   "cell_type": "code",
   "execution_count": 11,
   "metadata": {},
   "outputs": [],
   "source": [
    "# the Ituna/Itatá Indigenous Land in Brazil.\n",
    "Ituna_map = folium.Map(location=[-4.06738, -52.034], zoom_start=10)\n",
    "# Ituna_map"
   ]
  },
  {
   "cell_type": "code",
   "execution_count": 12,
   "metadata": {},
   "outputs": [
    {
     "name": "stdout",
     "output_type": "stream",
     "text": [
      "Cloud Cover (%): 0\n"
     ]
    }
   ],
   "source": [
    "# get data from landsat-8\n",
    "landsat = ee.ImageCollection(\"LANDSAT/LC08/C01/T1_SR\")\n",
    "# setting the Area of Interest (AOI)\n",
    "Ituna_AOI = ee.Geometry.Rectangle([-51.84448, -3.92180,\n",
    "                                   -52.23999, -4.38201])\n",
    "# filter area\n",
    "landsat_AOI = landsat.filterBounds(Ituna_AOI)\n",
    "\n",
    "\n",
    "# choose dates\n",
    "# landsat = landsat.filterDate('2019-07-01','2019-12-01')\n",
    "# landsat_AOI.getInfo()\n",
    "\n",
    "# choose image\n",
    "# the least cloudy image\n",
    "least_cloudy = ee.Image(landsat_AOI.sort('CLOUD_COVER').first())\n",
    "# how cloudy is it?\n",
    "print('Cloud Cover (%):', least_cloudy.get('CLOUD_COVER').getInfo())"
   ]
  },
  {
   "cell_type": "code",
   "execution_count": 13,
   "metadata": {
    "scrolled": true
   },
   "outputs": [
    {
     "data": {
      "text/html": [
       "<img src=\"https://earthengine.googleapis.com/v1alpha/projects/earthengine-legacy/thumbnails/a50fc4c1bc7531f6167113f692f8064f-d91099674d21baa66bf9c0f71fa294d0:getPixels\"/>"
      ],
      "text/plain": [
       "<IPython.core.display.Image object>"
      ]
     },
     "execution_count": 13,
     "metadata": {},
     "output_type": "execute_result"
    }
   ],
   "source": [
    "# visualizing satellite imagery\n",
    "# setting the Area of Interest (AOI)\n",
    "# Ituna_AOI = ee.Geometry.Rectangle([-51.84448, -3.92180,\n",
    "#                                    -52.23999, -4.38201])\n",
    "parameters = {'min': 0,\n",
    "              'max': 1000,\n",
    "              'dimensions': 512,\n",
    "              'bands': ['B4', 'B3', 'B2'],\n",
    "              'region': Ituna_AOI}\n",
    "             \n",
    "Image(url = least_cloudy.getThumbUrl(parameters))"
   ]
  },
  {
   "cell_type": "markdown",
   "metadata": {},
   "source": [
    "## Image collections"
   ]
  },
  {
   "cell_type": "markdown",
   "metadata": {},
   "source": [
    "**Landsat-8**"
   ]
  },
  {
   "cell_type": "code",
   "execution_count": 103,
   "metadata": {
    "scrolled": true
   },
   "outputs": [
    {
     "data": {
      "text/html": [
       "<img src=\"https://earthengine.googleapis.com/v1alpha/projects/earthengine-legacy/thumbnails/79f25c19ff7b0523cba2495fce21fd81-746b8e1fe5701d695e86fb8ca6bd0a69:getPixels\"/>"
      ],
      "text/plain": [
       "<IPython.core.display.Image object>"
      ]
     },
     "execution_count": 103,
     "metadata": {},
     "output_type": "execute_result"
    }
   ],
   "source": [
    "# get data from landsat-8\n",
    "landsat = ee.ImageCollection(\"LANDSAT/LC08/C01/T1_SR\")\n",
    "# setting the Area of Interest (AOI)\n",
    "Ituna_AOI = ee.Geometry.Rectangle([137.3, 34.65, 137.5, 34.85])\n",
    "# Ituna_AOI = ee.Geometry.Rectangle([137.325, 34.65, 137.35, 34.7])\n",
    "\n",
    "# filter area\n",
    "landsat_AOI = landsat.filterBounds(Ituna_AOI)\n",
    "\n",
    "least_cloudy = ee.Image(landsat_AOI.sort('CLOUD_COVER').first())\n",
    "\n",
    "parameters = {'min': 0,\n",
    "              'max': 3000,\n",
    "              'dimensions': 1024*3,\n",
    "              'bands': ['B4', 'B3', 'B2'],\n",
    "              'region': Ituna_AOI}\n",
    "             \n",
    "Image(url = least_cloudy.getThumbUrl(parameters))"
   ]
  },
  {
   "cell_type": "markdown",
   "metadata": {},
   "source": [
    "**Sentinel-2 MSI: MultiSpectral Instrument, Level-2A**"
   ]
  },
  {
   "cell_type": "code",
   "execution_count": null,
   "metadata": {},
   "outputs": [],
   "source": [
    "def maskS2clouds(image):\n",
    "    \"\"\"\n",
    "     Function to mask clouds using the Sentinel-2 QA band\n",
    "     @param {ee.Image} image Sentinel-2 image\n",
    "     @return {ee.Image} cloud masked Sentinel-2 image\n",
    "     \"\"\"\n",
    "    qa = image.select('QA60');\n",
    "\n",
    "    # Bits 10 and 11 are clouds and cirrus, respectively.\n",
    "    cloudBitMask = (1 << 10)\n",
    "    cirrusBitMask = (1 << 11)\n",
    "\n",
    "    # Both flags should be set to zero, indicating clear conditions.\n",
    "    mask = qa.bitwiseAnd(cloudBitMask).eq(0) and (qa.bitwiseAnd(cirrusBitMask).eq(0))\n",
    "\n",
    "    return image.updateMask(mask).divide(10000)"
   ]
  },
  {
   "cell_type": "code",
   "execution_count": 119,
   "metadata": {
    "scrolled": true
   },
   "outputs": [
    {
     "data": {
      "text/html": [
       "<img src=\"https://earthengine.googleapis.com/v1alpha/projects/earthengine-legacy/thumbnails/0486caa7ff7b0041eeea91745b4a479a-621927ce9366138da557a0f3d2096505:getPixels\"/>"
      ],
      "text/plain": [
       "<IPython.core.display.Image object>"
      ]
     },
     "execution_count": 119,
     "metadata": {},
     "output_type": "execute_result"
    }
   ],
   "source": [
    "landsat = ee.ImageCollection(\"COPERNICUS/S2_SR\")\\\n",
    "            .filterDate('2020-01-01', '2020-01-30')\\\n",
    "            .filter(ee.Filter.lt('CLOUDY_PIXEL_PERCENTAGE',20))\\\n",
    "            .map(maskS2clouds)\n",
    "# setting the Area of Interest (AOI)\n",
    "# Ituna_AOI = ee.Geometry.Rectangle([137.3, 34.65, 137.5, 34.85])\n",
    "# Ituna_AOI = ee.Geometry.Rectangle([137.325, 34.65, 137.35, 34.7])\n",
    "# Ituna_AOI = ee.Geometry.Rectangle([137.325, 34.65, 137.35, 34.675])\n",
    "Ituna_AOI = ee.Geometry.Rectangle([137.325, 34.65, 137.33, 34.655])\n",
    "\n",
    "# filter area\n",
    "landsat_AOI = landsat.filterBounds(Ituna_AOI)\n",
    "\n",
    "least_cloudy = ee.Image(landsat_AOI.sort('LAND_COVER').first())\n",
    "\n",
    "parameters = {'min': 0,\n",
    "              'max': 0.3,\n",
    "              'dimensions': 1024*3,\n",
    "#               'scale':1,\n",
    "              'bands': ['B4', 'B3', 'B2'],\n",
    "              'region': Ituna_AOI}\n",
    "             \n",
    "Image(url = least_cloudy.getThumbUrl(parameters))"
   ]
  },
  {
   "cell_type": "markdown",
   "metadata": {},
   "source": [
    "### Sentinel-2 MSI: MultiSpectral Instrument, Level-1C"
   ]
  },
  {
   "cell_type": "code",
   "execution_count": 125,
   "metadata": {},
   "outputs": [
    {
     "data": {
      "text/html": [
       "<img src=\"https://earthengine.googleapis.com/v1alpha/projects/earthengine-legacy/thumbnails/3d543dd46a1a5a6e4b245935a643532b-6c79f00c86344ba7d07fc2028462f06e:getPixels\"/>"
      ],
      "text/plain": [
       "<IPython.core.display.Image object>"
      ]
     },
     "execution_count": 125,
     "metadata": {},
     "output_type": "execute_result"
    }
   ],
   "source": [
    "landsat = ee.ImageCollection(\"COPERNICUS/S2\")\\\n",
    "            .filterDate('2020-01-01', '2020-01-30')\\\n",
    "            .filter(ee.Filter.lt('CLOUDY_PIXEL_PERCENTAGE',20))\\\n",
    "            .map(maskS2clouds)\n",
    "# setting the Area of Interest (AOI)\n",
    "# Ituna_AOI = ee.Geometry.Rectangle([137.3, 34.65, 137.5, 34.85])\n",
    "# Ituna_AOI = ee.Geometry.Rectangle([137.325, 34.65, 137.35, 34.7])\n",
    "# Ituna_AOI = ee.Geometry.Rectangle([137.325, 34.65, 137.35, 34.675])\n",
    "Ituna_AOI = ee.Geometry.Rectangle([137.325, 34.65, 137.33, 34.655])\n",
    "\n",
    "# filter area\n",
    "landsat_AOI = landsat.filterBounds(Ituna_AOI)\n",
    "\n",
    "least_cloudy = ee.Image(landsat_AOI.sort('LAND_COVER').first())\n",
    "\n",
    "parameters = {'min': 0,\n",
    "              'max': 0.3,\n",
    "              'dimensions': 1024*3,\n",
    "              # 'scale':1,\n",
    "              'bands': ['B4', 'B3', 'B2'],\n",
    "              'region': Ituna_AOI}\n",
    "             \n",
    "Image(url = least_cloudy.getThumbUrl(parameters))"
   ]
  },
  {
   "cell_type": "code",
   "execution_count": null,
   "metadata": {
    "scrolled": true
   },
   "outputs": [],
   "source": [
    "# Normalized Difference Vegetation Index (NDVI)\n",
    "ndvi = least_cloudy.normalizedDifference(['B5', 'B4'])\n",
    "palette = ['red', 'yellow', 'green']\n",
    "ndvi_parameters = {'min': 0,\n",
    "                   'max': 1,\n",
    "                   'dimensions': 512,\n",
    "                   'palette': palette,\n",
    "                   'region': Ituna_AOI}\n",
    "Ituna_map.addLayer(ndvi, ndvi_parameters)\n",
    "Ituna_map"
   ]
  },
  {
   "cell_type": "raw",
   "metadata": {},
   "source": [
    "dir(Ituna_map)"
   ]
  },
  {
   "cell_type": "code",
   "execution_count": null,
   "metadata": {},
   "outputs": [],
   "source": [
    "# Print the elevation of Mount Everest.\n",
    "dem = ee.Image('USGS/SRTMGL1_003')\n",
    "# xy = ee.Geometry.Point([86.9250, 27.9881])\n",
    "# elev = dem.sample(xy, 30).first().get('elevation').getInfo()\n",
    "# print('Mount Everest elevation (m):', elev)"
   ]
  },
  {
   "cell_type": "code",
   "execution_count": null,
   "metadata": {},
   "outputs": [],
   "source": [
    "print(type(dem))"
   ]
  },
  {
   "cell_type": "code",
   "execution_count": null,
   "metadata": {
    "scrolled": false
   },
   "outputs": [],
   "source": [
    "\n",
    "\n",
    "\n",
    "# Display a thumbnail of global elevation.\n",
    "Image(url = dem.updateMask(dem.gt(0))\n",
    "  .getThumbURL({'min': 0, 'max': 4000, 'dimensions': 512,\n",
    "                'palette': ['006633', 'E5FFCC', '662A00', 'D8D8D8', 'F5F5F5']}))"
   ]
  },
  {
   "cell_type": "code",
   "execution_count": null,
   "metadata": {},
   "outputs": [],
   "source": [
    "landsat = ee.ImageCollection(\"LANDSAT/LC08/C01/T1_SR\")\n",
    "# setting the Area of Interest\n",
    "toyohashi = ee.Geometry.Rectangle([137.3, 32.65, 137.5, 34.85])\n",
    "\n",
    "# filter area\n",
    "landsat_toyo = landsat.filterBounds(toyohashi)\n",
    "\n",
    "\n",
    "# choose dates\n",
    "# landsat = landsat.filterDate('2019-07-01','2019-12-01')\n",
    "landsat_toyo = landsat_toyo.filterDate('2016-01-01', '2016-12-31')\n",
    "# print(landsat_AOI.getInfo())\n",
    "\n",
    "# choose image\n",
    "# the least cloudy image\n",
    "land_cover_toyo = ee.Image(landsat_toyo)\n",
    "print(type(land_cover_toyo))"
   ]
  },
  {
   "cell_type": "code",
   "execution_count": null,
   "metadata": {},
   "outputs": [],
   "source": [
    "# Display a thumbnail of global elevation.\n",
    "Image(url = land_cover_toyo.updateMask(land_cover_toyo.gt(1))\n",
    "  .getThumbURL({'min': 0, 'max': 4000, 'dimensions': 512,\n",
    "                'palette': ['006633', 'E5FFCC', '662A00', 'D8D8D8', 'F5F5F5']}))"
   ]
  },
  {
   "cell_type": "code",
   "execution_count": null,
   "metadata": {},
   "outputs": [],
   "source": [
    "\n",
    "# Import the matplotlib.pyplot module.\n",
    "import matplotlib.pyplot as plt\n",
    "\n",
    "# Fetch a Landsat image.\n",
    "img = ee.Image('LANDSAT/LT05/C01/T1_SR/LT05_034033_20000913')\n",
    "\n",
    "# Select Red and NIR bands, scale them, and sample 500 points.\n",
    "samp_fc = img.select(['B3','B4']).divide(10000).sample(scale=30, numPixels=500)\n",
    "\n",
    "# Arrange the sample as a list of lists.\n",
    "samp_dict = samp_fc.reduceColumns(ee.Reducer.toList().repeat(2), ['B3', 'B4'])\n",
    "samp_list = ee.List(samp_dict.get('list'))\n",
    "\n",
    "# Save server-side ee.List as a client-side Python list.\n",
    "samp_data = samp_list.getInfo()\n",
    "\n",
    "# Display a scatter plot of Red-NIR sample pairs using matplotlib.\n",
    "plt.scatter(samp_data[0], samp_data[1], alpha=0.2)\n",
    "plt.xlabel('Red', fontsize=12)\n",
    "plt.ylabel('NIR', fontsize=12)\n",
    "plt.show()"
   ]
  }
 ],
 "metadata": {
  "kernelspec": {
   "display_name": "Python 3",
   "language": "python",
   "name": "python3"
  },
  "language_info": {
   "codemirror_mode": {
    "name": "ipython",
    "version": 3
   },
   "file_extension": ".py",
   "mimetype": "text/x-python",
   "name": "python",
   "nbconvert_exporter": "python",
   "pygments_lexer": "ipython3",
   "version": "3.8.2"
  }
 },
 "nbformat": 4,
 "nbformat_minor": 4
}
