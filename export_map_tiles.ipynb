{
 "cells": [
  {
   "cell_type": "code",
   "execution_count": 1,
   "metadata": {
    "scrolled": true
   },
   "outputs": [
    {
     "data": {
      "text/html": [
       "<p>To authorize access needed by Earth Engine, open the following\n",
       "        URL in a web browser and follow the instructions:</p>\n",
       "        <p><a href=https://accounts.google.com/o/oauth2/auth?client_id=517222506229-vsmmajv00ul0bs7p89v5m89qs8eb9359.apps.googleusercontent.com&scope=https%3A%2F%2Fwww.googleapis.com%2Fauth%2Fearthengine+https%3A%2F%2Fwww.googleapis.com%2Fauth%2Fdevstorage.full_control&redirect_uri=urn%3Aietf%3Awg%3Aoauth%3A2.0%3Aoob&response_type=code&code_challenge=x679yAL_J4ssaWakjj-sVQTUexjz_KMCWC2_qDX_o5g&code_challenge_method=S256>https://accounts.google.com/o/oauth2/auth?client_id=517222506229-vsmmajv00ul0bs7p89v5m89qs8eb9359.apps.googleusercontent.com&scope=https%3A%2F%2Fwww.googleapis.com%2Fauth%2Fearthengine+https%3A%2F%2Fwww.googleapis.com%2Fauth%2Fdevstorage.full_control&redirect_uri=urn%3Aietf%3Awg%3Aoauth%3A2.0%3Aoob&response_type=code&code_challenge=x679yAL_J4ssaWakjj-sVQTUexjz_KMCWC2_qDX_o5g&code_challenge_method=S256</a></p>\n",
       "        <p>The authorization workflow will generate a code, which you\n",
       "        should paste in the box below</p>\n",
       "        "
      ],
      "text/plain": [
       "<IPython.core.display.HTML object>"
      ]
     },
     "metadata": {},
     "output_type": "display_data"
    },
    {
     "name": "stdout",
     "output_type": "stream",
     "text": [
      "Enter verification code: 4/2QHOEiQ9AL6xQTZ3XyrE9wGsTk4flsWzlwPdMzCHZ7Q4LB8eX5ELCjg\n",
      "\n",
      "Successfully saved authorization token.\n"
     ]
    }
   ],
   "source": [
    "from time import sleep\n",
    "from IPython.display import Image\n",
    "import folium\n",
    "import geehydro\n",
    "from datetime import datetime as dt\n",
    "import numpy as np\n",
    "import ee\n",
    "ee.Authenticate()\n",
    "ee.Initialize()"
   ]
  },
  {
   "cell_type": "code",
   "execution_count": 2,
   "metadata": {},
   "outputs": [],
   "source": [
    "def maskS2clouds(image):\n",
    "    \"\"\"\n",
    "     Function to mask clouds using the Sentinel-2 QA band\n",
    "     @param {ee.Image} image Sentinel-2 image\n",
    "     @return {ee.Image} cloud masked Sentinel-2 image\n",
    "     \"\"\"\n",
    "    qa = image.select('QA60');\n",
    "\n",
    "    # Bits 10 and 11 are clouds and cirrus, respectively.\n",
    "    cloudBitMask = (1 << 10)\n",
    "    cirrusBitMask = (1 << 11)\n",
    "\n",
    "    # Both flags should be set to zero, indicating clear conditions.\n",
    "    mask = qa.bitwiseAnd(cloudBitMask).eq(0) and (qa.bitwiseAnd(cirrusBitMask).eq(0))\n",
    "\n",
    "    return image.updateMask(mask).divide(10000)"
   ]
  },
  {
   "cell_type": "markdown",
   "metadata": {},
   "source": [
    "## Image collections"
   ]
  },
  {
   "cell_type": "markdown",
   "metadata": {},
   "source": [
    "**Landsat-8**"
   ]
  },
  {
   "cell_type": "raw",
   "metadata": {
    "scrolled": true
   },
   "source": [
    "# get data from landsat-8\n",
    "landsat8 = ee.ImageCollection(\"LANDSAT/LC08/C01/T1_SR\")\n",
    "\n",
    "# setting the Area of Interest (AOI)\n",
    "sat_AOI = ee.Geometry.Rectangle([137.3, 34.65, 137.5, 34.85])\n",
    "\n",
    "# filter area\n",
    "landsat8_AOI = landsat8.filterBounds(sat_AOI)\n",
    "\n",
    "least_cloudy8 = ee.Image(landsat8_AOI.sort('CLOUD_COVER').first())\n",
    "\n",
    "parameters8 = {'min': 0,\n",
    "              'max': 3000,\n",
    "              'dimensions': 1024*3,\n",
    "              'bands': ['B4', 'B3', 'B2'],\n",
    "              'region': sat_AOI}\n",
    "             \n",
    "Image(url = least_cloudy8.getThumbUrl(parameters8))"
   ]
  },
  {
   "cell_type": "markdown",
   "metadata": {},
   "source": [
    "**Sentinel-2 MSI: MultiSpectral Instrument, Level-2A**"
   ]
  },
  {
   "cell_type": "raw",
   "metadata": {
    "scrolled": false
   },
   "source": [
    "landsat = ee.ImageCollection(\"COPERNICUS/S2_SR\")\\\n",
    "            .filterDate('2018-01-01', '2018-12-31')\\\n",
    "            .filter(ee.Filter.lt('CLOUDY_PIXEL_PERCENTAGE',20))\\\n",
    "            .map(maskS2clouds)\n",
    "\n",
    "# setting the Area of Interest (AOI)\n",
    "sat_region = ee.Geometry.Rectangle([137.3, 34.66, 137.375, 34.70])\n",
    "\n",
    "# filter area\n",
    "landsat_AOI = landsat.filterBounds(sat_region)\n",
    "\n",
    "least_cloudy = ee.Image(landsat_AOI.sort('LAND_COVER').first())\n",
    "\n",
    "parameters = {'min': 0,\n",
    "              'max': 0.3,\n",
    "              # 'dimensions': 1024*3,\n",
    "              'scale':10,\n",
    "              'bands': ['B4', 'B3', 'B2'],\n",
    "              'region': sat_region}\n",
    "             \n",
    "Image(url = least_cloudy.getThumbUrl(parameters))"
   ]
  },
  {
   "cell_type": "markdown",
   "metadata": {},
   "source": [
    "#### export tiles of the toyohashi area\n",
    "Coordinates:\n",
    "34.65 - 34.85\n",
    "137.3 - 137.5\n",
    "\n",
    "Resolution:\n",
    "0.025 x 0.025"
   ]
  },
  {
   "cell_type": "code",
   "execution_count": 36,
   "metadata": {
    "scrolled": true
   },
   "outputs": [],
   "source": [
    "def grid_pairs(min_x, max_x, min_y, max_y, resolution):\n",
    "    # transform to origin\n",
    "    nx = np.round((max_x-min_x)/resolution).astype(np.int)+1\n",
    "    ny = np.round((max_y-min_y)/resolution).astype(np.int)+1\n",
    "    x = np.linspace(min_x, max_x, nx)\n",
    "    y = np.linspace(min_y, max_y, ny)\n",
    "    xv, yv = np.meshgrid(x, y)\n",
    "    grid_points = list(zip(yv.flatten(), xv.flatten()))\n",
    "    # print(grid_points)\n",
    "    skips = int((max_x-min_x)/resolution)+2\n",
    "    count = 0\n",
    "    pairs_coords = []\n",
    "    for i, point in enumerate(grid_points[:-skips]):\n",
    "        if point[1]==max_x:\n",
    "            continue\n",
    "        count+=1\n",
    "        pairs_coords.append([point[0], point[1], grid_points[i+skips][0], grid_points[i+skips][1]])\n",
    "    return pairs_coords\n",
    "# grid_pairs(34.675,34.725,137.35,137.4,0.025)\n",
    "# grid_pairs(34.675,34.725,137.4,137.45,0.025)"
   ]
  },
  {
   "cell_type": "code",
   "execution_count": 35,
   "metadata": {
    "scrolled": true
   },
   "outputs": [
    {
     "name": "stdout",
     "output_type": "stream",
     "text": [
      "1: 137.4000_34.6750\n",
      "2: 137.4000_34.7000\n",
      "3: 137.4250_34.6750\n",
      "4: 137.4250_34.7000\n",
      "DONE!!!\n"
     ]
    }
   ],
   "source": [
    "# coords = grid_pairs(34.65,34.85,137.3,137.5,0.025) # all tiles\n",
    "# coords = grid_pairs(34.675,34.725,137.35,137.4,0.025) # greenhouse samples train\n",
    "coords = grid_pairs(34.675,34.725,137.4,137.45,0.025) # greenhouse samples eval\n",
    "\n",
    "\n",
    "# another export format\n",
    "landsat = ee.ImageCollection(\"COPERNICUS/S2_SR\")\\\n",
    "            .filterDate('2018-01-01', '2018-12-31')\\\n",
    "            .filter(ee.Filter.lt('CLOUDY_PIXEL_PERCENTAGE',20))\\\n",
    "            .map(maskS2clouds).select(['B4', 'B3', 'B2'])\n",
    "\n",
    "# export Area of Interests (AOI)\n",
    "count = 0\n",
    "for coord in coords:\n",
    "    name = \"{:.4f}_{:.4f}\".format(coord[0], coord[1])\n",
    "    count += 1\n",
    "    print(f\"{count}: {name}\")\n",
    "    export_AOI = ee.Geometry.Rectangle(coord)\n",
    "\n",
    "    # filter area\n",
    "    landsat_AOI = landsat.filterBounds(export_AOI)\n",
    "\n",
    "    least_cloudy = ee.Image(landsat_AOI.sort('LAND_COVER').first())\n",
    "    \n",
    "    task_config = {\n",
    "        'scale': 1,\n",
    "        'region': export_AOI,\n",
    "        'folder':'toyohashi_sample_greenhouses_sentinel_eval',\n",
    "        'crs': 'EPSG:4326'\n",
    "        }\n",
    "    task = ee.batch.Export.image(least_cloudy, name, task_config)\n",
    "    task.start()\n",
    "    sleep(1)\n",
    "print(\"DONE!!!\")"
   ]
  }
 ],
 "metadata": {
  "kernelspec": {
   "display_name": "Python 3",
   "language": "python",
   "name": "python3"
  },
  "language_info": {
   "codemirror_mode": {
    "name": "ipython",
    "version": 3
   },
   "file_extension": ".py",
   "mimetype": "text/x-python",
   "name": "python",
   "nbconvert_exporter": "python",
   "pygments_lexer": "ipython3",
   "version": "3.7.7"
  }
 },
 "nbformat": 4,
 "nbformat_minor": 4
}
